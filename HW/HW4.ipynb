{
 "cells": [
  {
   "cell_type": "markdown",
   "metadata": {},
   "source": [
    "# HW 4\n",
    "\n",
    "This assignment covers several aspects of Linear Regresstion. \n",
    "**DO NOT ERASE MARKDOWN CELLS AND INSTRUCTIONS IN YOUR HW submission**\n",
    "\n",
    "  * **Q** - QUESTION\n",
    "  * **A** - Where to input your answer\n",
    "\n",
    "## Instructions\n",
    "\n",
    "Keep the following in mind for all notebooks you develop:\n",
    "* Structure your notebook. \n",
    "* Use headings with meaningful levels in Markdown cells, and explain the questions each piece of code is to answer or the reason it is there.\n",
    "* Make sure your notebook can always be rerun from top to bottom (Kernel Tab -> Restart and Run All)\n",
    "* Start working on this assignment as soon as possible. If you are a beginner in Python this might take a long time. One of the objectives of this assignment is to help you learn python and scikit-learn package. \n",
    "* Follow [README.md](README.md) for homework submission instructions\n",
    "* In this notebook we assume '../data/' location of all data files to be read and written\n",
    "\n",
    "\n",
    "## Related sklearn material and online tutorials\n",
    "\n",
    "[sklearn User Guide](https://scikit-learn.org/stable/user_guide.html)\n",
    "\n",
    "### sklearn data pre-processing\n",
    "* [train_test_split](https://scikit-learn.org/stable/modules/generated/sklearn.model_selection.train_test_split.html)\n",
    "* [common_pittfalls](https://scikit-learn.org/stable/common_pitfalls.html)\n",
    "* [train test split tutorial](https://towardsdatascience.com/train-test-split-and-cross-validation-in-python-80b61beca4b6)\n",
    "\n",
    "### sklearn multiple linear regression \n",
    "* [tutorial](https://scikit-learn.org/stable/modules/linear_model.html)\n",
    "* [API documentation](https://scikit-learn.org/stable/modules/classes.html#module-sklearn.linear_model)\n",
    "* [Linear Regression](https://scikit-learn.org/stable/modules/generated/sklearn.linear_model.LinearRegression.html#sklearn.linear_model.LinearRegression)\n",
    "* [multiple linear regression tutorial](https://datagy.io/python-sklearn-linear-regression/) \n",
    "\n",
    "### sklearn polynomial regression\n",
    "* [generate polynomial features](https://scikit-learn.org/stable/modules/generated/sklearn.preprocessing.PolynomialFeatures.html)\n",
    "* [polinomial regression tutorial](https://towardsdatascience.com/polynomial-regression-with-scikit-learn-what-you-should-know-bed9d3296f2)\n",
    "\n",
    "\n",
    "### correlation\n",
    "* [correlation](https://scikit-learn.org/stable/modules/generated/sklearn.feature_selection.r_regression.html)\n",
    "\n",
    "\n",
    "\n"
   ]
  },
  {
   "cell_type": "markdown",
   "metadata": {
    "id": "Xywj2VETsyKa"
   },
   "source": [
    "# Linear Regression\n",
    "\n",
    "In jupyter notebook environment, commands starting with the symbol % are magic commands or magic functions. ```%%timeit``` is one of such function. It basically gives you the speed of execution  of certain statement or blocks of codes."
   ]
  },
  {
   "cell_type": "code",
   "execution_count": 1,
   "metadata": {},
   "outputs": [],
   "source": [
    "import pandas as pd\n",
    "import numpy as np\n",
    "import seaborn as sns\n",
    "import matplotlib.pyplot as plt"
   ]
  },
  {
   "cell_type": "markdown",
   "metadata": {},
   "source": [
    "**Q1** Read the ```car_data.csv``` data (we assume ../data/ location of all data files to be read and written) from **data** folder using pandas. Replace the ??? in the code cell below to accomplish this taks. \n",
    "\n",
    "**A1** Replace ??? with code in the code cell below"
   ]
  },
  {
   "cell_type": "code",
   "execution_count": null,
   "metadata": {
    "id": "jM-tqtgluM8q"
   },
   "outputs": [],
   "source": [
    "# Replace ??? with code in the code cell below\n",
    "\n",
    "df = ?"
   ]
  },
  {
   "cell_type": "code",
   "execution_count": null,
   "metadata": {},
   "outputs": [],
   "source": [
    "# View head of the data to confirm the correctness of your answer\n",
    "df.?"
   ]
  },
  {
   "cell_type": "markdown",
   "metadata": {},
   "source": [
    "## Data cleaning and manipulation"
   ]
  },
  {
   "cell_type": "markdown",
   "metadata": {},
   "source": [
    "**Q2** Here, you will practice the usage of common data cleaning and manipulation functions in 3 steps. \n",
    "1. Use isnull() to figure out the number of NaN values per column\n",
    "2. Remove the column with majority NaN values (if any)\n",
    "3. Check if there are still NaN values in the dataframe using ```isna()``` method\n",
    "\n",
    "**A2** Replace ??? with code in the code cell below"
   ]
  },
  {
   "cell_type": "code",
   "execution_count": null,
   "metadata": {},
   "outputs": [],
   "source": [
    "# There is no missing data here on this dataset : \n",
    "df.?\n",
    "df.?"
   ]
  },
  {
   "cell_type": "code",
   "execution_count": null,
   "metadata": {},
   "outputs": [],
   "source": [
    "# lets get some statistical information : \n",
    "df.?"
   ]
  },
  {
   "cell_type": "markdown",
   "metadata": {},
   "source": [
    "**Q3:** In this task, out of all categorical columns, we focus only on the ```fueltype``` column processing in 2 steps. \n",
    "1. Use label encoder from sklearn and convert the ```fueltype``` categorical values to numerical values.  \n",
    "2. Create a new dataframe that contains only the numerical columns. \n",
    "\n",
    "**A3** Replace ??? with code in the code cell below. "
   ]
  },
  {
   "cell_type": "code",
   "execution_count": null,
   "metadata": {},
   "outputs": [],
   "source": [
    "# Label Encoding for 2-class columns:\n",
    "from sklearn.preprocessing import LabelEncoder\n",
    "le = ?\n",
    "df.?"
   ]
  },
  {
   "cell_type": "code",
   "execution_count": null,
   "metadata": {},
   "outputs": [],
   "source": [
    "# Create new dataframe with selected columns\n",
    "df=?"
   ]
  },
  {
   "cell_type": "code",
   "execution_count": null,
   "metadata": {},
   "outputs": [],
   "source": [
    "df.head()"
   ]
  },
  {
   "cell_type": "markdown",
   "metadata": {
    "id": "AXFcOu-sD8Bm"
   },
   "source": [
    "**Q4:** Use seaborn histplot to plot a distribution graph for the engine sizes \n",
    "\n",
    "**A4** Replace ??? with code in the code cell below"
   ]
  },
  {
   "cell_type": "code",
   "execution_count": null,
   "metadata": {
    "id": "gEDmsPJwxIZx"
   },
   "outputs": [],
   "source": [
    "plt.figure(figsize=(4,3),dpi=150)\n",
    "sns.?"
   ]
  },
  {
   "cell_type": "markdown",
   "metadata": {},
   "source": [
    "**Q5:** Use seaborn histplot to plot a distribution graph for the car prices\n",
    "\n",
    "**A5** Replace ??? with code in the code cell below"
   ]
  },
  {
   "cell_type": "code",
   "execution_count": null,
   "metadata": {},
   "outputs": [],
   "source": [
    "plt.figure(figsize=(4,3),dpi=150)\n",
    "sns.?"
   ]
  },
  {
   "cell_type": "markdown",
   "metadata": {},
   "source": [
    "**Q6:** Use seaborn scatterplot to present the relation between enginesize and the horsepower of a car\n",
    "\n",
    "**A6** Replace ??? with code in the code cell below"
   ]
  },
  {
   "cell_type": "code",
   "execution_count": null,
   "metadata": {},
   "outputs": [],
   "source": [
    "sns.?"
   ]
  },
  {
   "cell_type": "markdown",
   "metadata": {},
   "source": [
    "**Q7:** \n",
    "There is a correlation between the car price and the horsepower of a car. If horsepower of a car increase, the price of the car also increases most of the time, and in this question you will use the seaborn scatterplot to present the relation between price and horsepower. \n",
    "\n",
    "Next, use ``hue`` parameter of scatterplot function to illustrate datapoints that relate to specific fueltype category. \n",
    "\n",
    "**A7** Replace ??? with code in the code cell below"
   ]
  },
  {
   "cell_type": "code",
   "execution_count": null,
   "metadata": {},
   "outputs": [],
   "source": [
    "sns.?"
   ]
  },
  {
   "cell_type": "markdown",
   "metadata": {},
   "source": [
    "**Q8:** Use pairplot from sns to plot the data frame `df` and justify your feature selection.\n",
    "\n",
    "**A8:** replace ??? with code in the code cell below.  "
   ]
  },
  {
   "cell_type": "code",
   "execution_count": null,
   "metadata": {},
   "outputs": [],
   "source": [
    "# 2. Use pairplot from sns to plot our data frame df\n",
    "sns.?"
   ]
  },
  {
   "cell_type": "markdown",
   "metadata": {},
   "source": [
    "\n",
    "**Q9** Data Visualization: \n",
    "\n",
    "1. Use heatmap chart from seaborn library to findout the correlation between the columns in our dataset.\n",
    "2. Update data frame 'df' to contain 5 columns from existing 'df' with the highest correlation to column \"price\". Also include price column in the updated data frame.\n",
    "\n",
    "**A9** Replace ??? with code in the code cell below\n"
   ]
  },
  {
   "cell_type": "code",
   "execution_count": null,
   "metadata": {},
   "outputs": [],
   "source": [
    "corr_matrix = df.corr()\n",
    "plt.figure(figsize=(12,12))\n",
    "sns.?"
   ]
  },
  {
   "cell_type": "code",
   "execution_count": null,
   "metadata": {},
   "outputs": [],
   "source": [
    "# Task 2: Update data frame 'df' to contain 5 columns from existing 'df' with the highest correlation to column \"price\" and the price column itself.\n",
    "\n",
    "df=?"
   ]
  },
  {
   "cell_type": "markdown",
   "metadata": {},
   "source": [
    "## Data Preparation"
   ]
  },
  {
   "cell_type": "markdown",
   "metadata": {},
   "source": [
    "**Q10** Pre-processing \n",
    "1. Assign 'price' column value to y and rest of the columns to x\n",
    "\n",
    "**A10** Replace ??? with code in the code cell below"
   ]
  },
  {
   "cell_type": "code",
   "execution_count": null,
   "metadata": {
    "id": "N7h7ez6-y6gM"
   },
   "outputs": [],
   "source": [
    "y =?\n",
    "X =?\n",
    "X"
   ]
  },
  {
   "cell_type": "markdown",
   "metadata": {},
   "source": [
    "**Q11** Use train_test_split to split the data set as train:test=(80%:20%) ratio.\n",
    "\n",
    "**A11** Replace ??? with code in the code cell below"
   ]
  },
  {
   "cell_type": "code",
   "execution_count": null,
   "metadata": {
    "id": "Pdo3hgPnzKzj"
   },
   "outputs": [],
   "source": [
    "from sklearn.model_selection import train_test_split\n",
    "\n",
    "X_train, X_test, y_train, y_test =?\n",
    "# View the shape of your data set\n",
    "X_train.shape, X_test.shape, y_train.shape, y_test.shape"
   ]
  },
  {
   "cell_type": "markdown",
   "metadata": {},
   "source": [
    "## Regression Task"
   ]
  },
  {
   "cell_type": "markdown",
   "metadata": {},
   "source": [
    "### Multiple Linear Regression"
   ]
  },
  {
   "cell_type": "markdown",
   "metadata": {},
   "source": [
    "**Q12**  Fit multiple linear regression model on training data using all predictors, see (i)  [Linear Regression Example](https://scikit-learn.org/stable/auto_examples/linear_model/plot_ols.html#sphx-glr-auto-examples-linear-model-plot-ols-py); (ii) [scikit-learn linear model](https://scikit-learn.org/stable/modules/linear_model.html)\n",
    "\n",
    "$ Y = \\beta_0 + \\beta_1*x_1 + \\beta_2*x_2 + ...\\beta_p*x_p$\n",
    "\n",
    "**A12:** Replace ??? with code in the code cell below"
   ]
  },
  {
   "cell_type": "code",
   "execution_count": null,
   "metadata": {
    "id": "GHm6D6oIzcCU"
   },
   "outputs": [],
   "source": [
    "from sklearn.linear_model import LinearRegression\n",
    "linear_model = ?\n",
    "linear_model.?"
   ]
  },
  {
   "cell_type": "markdown",
   "metadata": {},
   "source": [
    "**Q13:** Model Scoring\n",
    "1. Calculate the test MSE \n",
    "2. Print the score from the model using test data\n",
    "\n",
    "**A13** Replace ??? with code in the code cell below"
   ]
  },
  {
   "cell_type": "code",
   "execution_count": null,
   "metadata": {
    "id": "g8k65QkO0k9b"
   },
   "outputs": [],
   "source": [
    "# Calculate the score on train and test sets\n",
    "# Your code goes below\n",
    "from sklearn.metrics import mean_squared_error\n",
    "import matplotlib.pyplot as plt\n",
    "y_pred=?\n",
    "mse = ?   # Calculate the test MSE\n",
    "print(\"Test mean squared error (MSE): {:.2f}\".format(mse))\n",
    "\n",
    "print(?)"
   ]
  },
  {
   "cell_type": "markdown",
   "metadata": {},
   "source": [
    "### Polinomial Regression"
   ]
  },
  {
   "cell_type": "markdown",
   "metadata": {},
   "source": [
    "**Q14:** Polynomial extension of the feature set captures the non-linear dependencies in the data\n",
    "1. Create a polinomial feature transformer with degree **TWO** using sklearn library [PolynomialFeatures](https://scikit-learn.org/stable/modules/generated/sklearn.preprocessing.PolynomialFeatures.html)\n",
    "2. Transform the training dataset using the polinomial feature transformer  \n",
    "\n",
    "**A14** Replace ??? with code in the code cell below"
   ]
  },
  {
   "cell_type": "code",
   "execution_count": null,
   "metadata": {},
   "outputs": [],
   "source": [
    "from sklearn.preprocessing import PolynomialFeatures\n",
    "poly =?\n",
    "poly_features = ?"
   ]
  },
  {
   "cell_type": "markdown",
   "metadata": {},
   "source": [
    "**Q15:** Train the new model\n",
    "1. Create a LinearRegression model using sklearn\n",
    "2. Train the model using the transformed Train data(X_train)/ or Polinomial train data\n",
    "3. Print the score for the Polinomial Regression for the Train data.  \n",
    "\n",
    "See (i) [Linear Regression Example](https://scikit-learn.org/stable/auto_examples/linear_model/plot_ols.html#sphx-glr-auto-examples-linear-model-plot-ols-py); (ii) Use the transformed X_train features inside the score() function for the correct model scores. \n",
    "\n",
    "**A15** Replace ??? with code in the code cell below"
   ]
  },
  {
   "cell_type": "code",
   "execution_count": null,
   "metadata": {},
   "outputs": [],
   "source": [
    "poly_reg_model = ?\n",
    "poly_reg_model.?\n",
    "\n",
    "poly_reg_model.?"
   ]
  }
 ],
 "metadata": {
  "colab": {
   "collapsed_sections": [],
   "name": "Copy of CS4347-Assignment2-NETID.ipynb",
   "provenance": [
    {
     "file_id": "1vsORsvIGVbJ2cNHR1lIPDIuGobP25ZPq",
     "timestamp": 1629391503766
    },
    {
     "file_id": "1vuQua73YBPg3xOVKXACAGdS_8R1OlQdX",
     "timestamp": 1611597429764
    },
    {
     "file_id": "1Jr8VoifAgTlPqVE_AiCDeWbiHGEyvkxq",
     "timestamp": 1580784119108
    }
   ]
  },
  "kernelspec": {
   "display_name": "Python 3 (ipykernel)",
   "language": "python",
   "name": "python3"
  },
  "language_info": {
   "codemirror_mode": {
    "name": "ipython",
    "version": 3
   },
   "file_extension": ".py",
   "mimetype": "text/x-python",
   "name": "python",
   "nbconvert_exporter": "python",
   "pygments_lexer": "ipython3",
   "version": "3.8.8"
  },
  "vscode": {
   "interpreter": {
    "hash": "6e3520c759e5572dcce85a4d2a3287416a08b75cbd9d64f3e9845a08c03ad027"
   }
  }
 },
 "nbformat": 4,
 "nbformat_minor": 2
}
