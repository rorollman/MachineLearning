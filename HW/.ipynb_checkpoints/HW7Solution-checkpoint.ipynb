{
 "cells": [
  {
   "cell_type": "markdown",
   "metadata": {},
   "source": [
    "# HW 7\n",
    "\n",
    "This assignment covers several aspects of Regularizations. \n",
    "**DO NOT ERASE MARKDOWN CELLS AND INSTRUCTIONS IN YOUR HW submission**\n",
    "\n",
    "  * **Q** - QUESTION\n",
    "  * **A** - Where to input your answer\n",
    "\n",
    "## Instructions\n",
    "\n",
    "Keep the following in mind for all notebooks you develop:\n",
    "* Structure your notebook. \n",
    "* Use headings with meaningful levels in Markdown cells, and explain the questions each piece of code is to answer or the reason it is there.\n",
    "* Make sure your notebook can always be rerun from top to bottom.\n",
    "* Please start working on this assignment as soon as possible. If you are a beginner in Python this might take a long time. One of the objectives of this assignment is to help you learn python and scikit-learn package. \n",
    "* See [README.md](README.md) for homework submission instructions\n",
    "\n",
    "## Related Tutorials\n",
    "    \n",
    "* [Lasso Regression - L1 Regularization](https://scikit-learn.org/stable/modules/generated/sklearn.linear_model.LassoCV.html)\n",
    "\n",
    "* [Ridge Regression - L2 Regularization](https://scikit-learn.org/stable/modules/generated/sklearn.discriminant_analysis.LinearDiscriminantAnalysis.html)\n",
    "\n",
    "* [Metrics : Precision-Recall curve](https://scikit-learn.org/stable/auto_examples/model_selection/plot_precision_recall.html)"
   ]
  },
  {
   "cell_type": "markdown",
   "metadata": {},
   "source": [
    "# Data Processing"
   ]
  },
  {
   "cell_type": "markdown",
   "metadata": {},
   "source": [
    "**Data** \n",
    "* Get the exploratory data and the following files from [link](https://archive.ics.uci.edu/ml/datasets/Breast+Cancer+Wisconsin+%28Diagnostic%29)\n",
    "* Save metadata and the original data from download [Link](https://archive.ics.uci.edu/ml/datasets/Breast+Cancer+Wisconsin+%28Diagnostic%29) to your local HW folder. \n",
    "\n",
    "```or```\n",
    "\n",
    "You can load dataset from ```data'' folder into the dataframe."
   ]
  },
  {
   "cell_type": "markdown",
   "metadata": {},
   "source": [
    "**Q1** Get training data from the dataframe\n",
    "1. Load breast-cancer-wisconsin.data into data frame\n",
    "2. Note: the data file does not contains column names, so include appropriate column names by exploring the metadata file\n",
    "3. Replace Non-Numeric values with 0\n",
    "4. Replace Class label ```2 with 0``` and ```4 with 1```\n",
    "\n",
    "**A1** Replace ??? with code in the code cell below"
   ]
  },
  {
   "cell_type": "code",
   "execution_count": 29,
   "metadata": {},
   "outputs": [
    {
     "data": {
      "text/html": [
       "<div>\n",
       "<style scoped>\n",
       "    .dataframe tbody tr th:only-of-type {\n",
       "        vertical-align: middle;\n",
       "    }\n",
       "\n",
       "    .dataframe tbody tr th {\n",
       "        vertical-align: top;\n",
       "    }\n",
       "\n",
       "    .dataframe thead th {\n",
       "        text-align: right;\n",
       "    }\n",
       "</style>\n",
       "<table border=\"1\" class=\"dataframe\">\n",
       "  <thead>\n",
       "    <tr style=\"text-align: right;\">\n",
       "      <th></th>\n",
       "      <th>Sample code number</th>\n",
       "      <th>Clump Thickness</th>\n",
       "      <th>Uniformity of Cell Size</th>\n",
       "      <th>Uniformity of Cell Shape</th>\n",
       "      <th>Marginal Adhesion</th>\n",
       "      <th>Single Epithelial Cell Size</th>\n",
       "      <th>Bare Nuclei</th>\n",
       "      <th>Bland Chromatin</th>\n",
       "      <th>Normal Nucleoli</th>\n",
       "      <th>Mitoses</th>\n",
       "      <th>Class</th>\n",
       "    </tr>\n",
       "  </thead>\n",
       "  <tbody>\n",
       "    <tr>\n",
       "      <th>0</th>\n",
       "      <td>1000025</td>\n",
       "      <td>5</td>\n",
       "      <td>1</td>\n",
       "      <td>1</td>\n",
       "      <td>1</td>\n",
       "      <td>2</td>\n",
       "      <td>1</td>\n",
       "      <td>3</td>\n",
       "      <td>1</td>\n",
       "      <td>1</td>\n",
       "      <td>2</td>\n",
       "    </tr>\n",
       "    <tr>\n",
       "      <th>1</th>\n",
       "      <td>1002945</td>\n",
       "      <td>5</td>\n",
       "      <td>4</td>\n",
       "      <td>4</td>\n",
       "      <td>5</td>\n",
       "      <td>7</td>\n",
       "      <td>10</td>\n",
       "      <td>3</td>\n",
       "      <td>2</td>\n",
       "      <td>1</td>\n",
       "      <td>2</td>\n",
       "    </tr>\n",
       "    <tr>\n",
       "      <th>2</th>\n",
       "      <td>1015425</td>\n",
       "      <td>3</td>\n",
       "      <td>1</td>\n",
       "      <td>1</td>\n",
       "      <td>1</td>\n",
       "      <td>2</td>\n",
       "      <td>2</td>\n",
       "      <td>3</td>\n",
       "      <td>1</td>\n",
       "      <td>1</td>\n",
       "      <td>2</td>\n",
       "    </tr>\n",
       "    <tr>\n",
       "      <th>3</th>\n",
       "      <td>1016277</td>\n",
       "      <td>6</td>\n",
       "      <td>8</td>\n",
       "      <td>8</td>\n",
       "      <td>1</td>\n",
       "      <td>3</td>\n",
       "      <td>4</td>\n",
       "      <td>3</td>\n",
       "      <td>7</td>\n",
       "      <td>1</td>\n",
       "      <td>2</td>\n",
       "    </tr>\n",
       "    <tr>\n",
       "      <th>4</th>\n",
       "      <td>1017023</td>\n",
       "      <td>4</td>\n",
       "      <td>1</td>\n",
       "      <td>1</td>\n",
       "      <td>3</td>\n",
       "      <td>2</td>\n",
       "      <td>1</td>\n",
       "      <td>3</td>\n",
       "      <td>1</td>\n",
       "      <td>1</td>\n",
       "      <td>2</td>\n",
       "    </tr>\n",
       "    <tr>\n",
       "      <th>5</th>\n",
       "      <td>1017122</td>\n",
       "      <td>8</td>\n",
       "      <td>10</td>\n",
       "      <td>10</td>\n",
       "      <td>8</td>\n",
       "      <td>7</td>\n",
       "      <td>10</td>\n",
       "      <td>9</td>\n",
       "      <td>7</td>\n",
       "      <td>1</td>\n",
       "      <td>4</td>\n",
       "    </tr>\n",
       "    <tr>\n",
       "      <th>6</th>\n",
       "      <td>1018099</td>\n",
       "      <td>1</td>\n",
       "      <td>1</td>\n",
       "      <td>1</td>\n",
       "      <td>1</td>\n",
       "      <td>2</td>\n",
       "      <td>10</td>\n",
       "      <td>3</td>\n",
       "      <td>1</td>\n",
       "      <td>1</td>\n",
       "      <td>2</td>\n",
       "    </tr>\n",
       "    <tr>\n",
       "      <th>7</th>\n",
       "      <td>1018561</td>\n",
       "      <td>2</td>\n",
       "      <td>1</td>\n",
       "      <td>2</td>\n",
       "      <td>1</td>\n",
       "      <td>2</td>\n",
       "      <td>1</td>\n",
       "      <td>3</td>\n",
       "      <td>1</td>\n",
       "      <td>1</td>\n",
       "      <td>2</td>\n",
       "    </tr>\n",
       "    <tr>\n",
       "      <th>8</th>\n",
       "      <td>1033078</td>\n",
       "      <td>2</td>\n",
       "      <td>1</td>\n",
       "      <td>1</td>\n",
       "      <td>1</td>\n",
       "      <td>2</td>\n",
       "      <td>1</td>\n",
       "      <td>1</td>\n",
       "      <td>1</td>\n",
       "      <td>5</td>\n",
       "      <td>2</td>\n",
       "    </tr>\n",
       "    <tr>\n",
       "      <th>9</th>\n",
       "      <td>1033078</td>\n",
       "      <td>4</td>\n",
       "      <td>2</td>\n",
       "      <td>1</td>\n",
       "      <td>1</td>\n",
       "      <td>2</td>\n",
       "      <td>1</td>\n",
       "      <td>2</td>\n",
       "      <td>1</td>\n",
       "      <td>1</td>\n",
       "      <td>2</td>\n",
       "    </tr>\n",
       "  </tbody>\n",
       "</table>\n",
       "</div>"
      ],
      "text/plain": [
       "   Sample code number  Clump Thickness  Uniformity of Cell Size  \\\n",
       "0             1000025                5                        1   \n",
       "1             1002945                5                        4   \n",
       "2             1015425                3                        1   \n",
       "3             1016277                6                        8   \n",
       "4             1017023                4                        1   \n",
       "5             1017122                8                       10   \n",
       "6             1018099                1                        1   \n",
       "7             1018561                2                        1   \n",
       "8             1033078                2                        1   \n",
       "9             1033078                4                        2   \n",
       "\n",
       "   Uniformity of Cell Shape  Marginal Adhesion  Single Epithelial Cell Size  \\\n",
       "0                         1                  1                            2   \n",
       "1                         4                  5                            7   \n",
       "2                         1                  1                            2   \n",
       "3                         8                  1                            3   \n",
       "4                         1                  3                            2   \n",
       "5                        10                  8                            7   \n",
       "6                         1                  1                            2   \n",
       "7                         2                  1                            2   \n",
       "8                         1                  1                            2   \n",
       "9                         1                  1                            2   \n",
       "\n",
       "  Bare Nuclei  Bland Chromatin  Normal Nucleoli  Mitoses  Class  \n",
       "0           1                3                1        1      2  \n",
       "1          10                3                2        1      2  \n",
       "2           2                3                1        1      2  \n",
       "3           4                3                7        1      2  \n",
       "4           1                3                1        1      2  \n",
       "5          10                9                7        1      4  \n",
       "6          10                3                1        1      2  \n",
       "7           1                3                1        1      2  \n",
       "8           1                1                1        5      2  \n",
       "9           1                2                1        1      2  "
      ]
     },
     "execution_count": 29,
     "metadata": {},
     "output_type": "execute_result"
    }
   ],
   "source": [
    "import numpy as np\n",
    "import pandas as pd\n",
    "from sklearn.model_selection import train_test_split\n",
    "\n",
    "#Read the breast-cancer-wisconsin.data file using the prropriate separator as input to read_csv()\n",
    "columns=['Sample code number', 'Clump Thickness', 'Uniformity of Cell Size', 'Uniformity of Cell Shape','Marginal Adhesion','Single Epithelial Cell Size','Bare Nuclei',\n",
    "'Bland Chromatin','Normal Nucleoli','Mitoses','Class']\n",
    "df = pd.read_csv('../data/breast-cancer-wisconsin.data', names=columns)\n",
    "df.head(10)\n"
   ]
  },
  {
   "cell_type": "code",
   "execution_count": 30,
   "metadata": {},
   "outputs": [],
   "source": [
    "# Replace Non numeric values with 0 \n",
    "df.replace('?', 0, inplace=True)\n",
    "\n",
    "#Replace the Class label values following above given instructions\n",
    "df['Class'].replace(2,0,inplace=True)\n",
    "df['Class'].replace(4,1,inplace=True)"
   ]
  },
  {
   "cell_type": "markdown",
   "metadata": {},
   "source": [
    "**Q2**\n",
    "\n",
    "1. Assign values of ```Class``` column to ```y```, note you have to use ```.values``` method\n",
    "2. Drop ```Class``` column from data frame,\n",
    "3. Assign df values to x\n",
    "4. Normalize the x dataset using sklearn StandardScaler \n",
    "5. Split dataset into train and test data use train_test_split with test_size = 0.2, stratify y and random_state = 1238\n",
    "\n",
    "**A2** Replace ??? with code in the code cell below"
   ]
  },
  {
   "cell_type": "code",
   "execution_count": 31,
   "metadata": {},
   "outputs": [
    {
     "name": "stdout",
     "output_type": "stream",
     "text": [
      "(699, 10)\n",
      "(699,)\n"
     ]
    }
   ],
   "source": [
    "# Assign values of ```Class``` column to y, note you have to use .values method\n",
    "y = df.Class.values\n",
    "# Drop 'Class' column from data frame,\n",
    "df.drop(columns=['Class'], inplace=True)\n",
    "# Assign df values to x\n",
    "x = df.values\n",
    "# View shape of x and y\n",
    "print(x.shape)\n",
    "print(y.shape)\n",
    "\n"
   ]
  },
  {
   "cell_type": "code",
   "execution_count": 32,
   "metadata": {},
   "outputs": [],
   "source": [
    "from sklearn.preprocessing import StandardScaler\n",
    "sc=StandardScaler()\n",
    "sc.fit(x)\n",
    "X_scaled=sc.fit_transform(x)"
   ]
  },
  {
   "cell_type": "code",
   "execution_count": 33,
   "metadata": {},
   "outputs": [],
   "source": [
    "xtrain, xtest, ytrain, ytest =  train_test_split(X_scaled,y, test_size = 0.2, random_state=1, stratify=y)"
   ]
  },
  {
   "cell_type": "markdown",
   "metadata": {
    "id": "NsUM8-i_KhK1"
   },
   "source": [
    "# Model Regularization"
   ]
  },
  {
   "cell_type": "markdown",
   "metadata": {},
   "source": [
    "## Ridge Regularization/ Ridge Regression"
   ]
  },
  {
   "cell_type": "markdown",
   "metadata": {},
   "source": [
    "**Q3** Train Ridge Regularization Model\n",
    "1. Create a Ridge Regularization Model using sklearn library, [See the documenttaion for details](https://scikit-learn.org/stable/modules/generated/sklearn.linear_model.Ridge.html)\n",
    "2. Fit the model with the train data\n",
    "3. Predict the values with the test data\n",
    "4. Print the coefficients of the model\n",
    "5. Calculate the test MSE \n",
    "6. Get the score from the model using test data\n",
    "7. Plot Precision-Recall Curve from the ytest & predicted ytest\n",
    "\n",
    "**Note**\n",
    "* Here we generate an array of cost values ranging from very big to very small \n",
    "  * cost here is variable alpha: alpha is equivalent to lambda in the lesson 13.\n",
    "* Associated with each alpha value is a vector of ridge regression coefficients that we store in a matrix, with 100 rows (one for each value of alpha) and 10 columns (one for each predictor).  \n",
    "\n",
    "**A3** Replace ??? with code in the code cell below"
   ]
  },
  {
   "cell_type": "code",
   "execution_count": 34,
   "metadata": {},
   "outputs": [
    {
     "data": {
      "text/html": [
       "<div>\n",
       "<style scoped>\n",
       "    .dataframe tbody tr th:only-of-type {\n",
       "        vertical-align: middle;\n",
       "    }\n",
       "\n",
       "    .dataframe tbody tr th {\n",
       "        vertical-align: top;\n",
       "    }\n",
       "\n",
       "    .dataframe thead th {\n",
       "        text-align: right;\n",
       "    }\n",
       "</style>\n",
       "<table border=\"1\" class=\"dataframe\">\n",
       "  <thead>\n",
       "    <tr style=\"text-align: right;\">\n",
       "      <th></th>\n",
       "      <th>Sample code number</th>\n",
       "      <th>Clump Thickness</th>\n",
       "      <th>Uniformity of Cell Size</th>\n",
       "      <th>Uniformity of Cell Shape</th>\n",
       "      <th>Marginal Adhesion</th>\n",
       "      <th>Single Epithelial Cell Size</th>\n",
       "      <th>Bare Nuclei</th>\n",
       "      <th>Bland Chromatin</th>\n",
       "      <th>Normal Nucleoli</th>\n",
       "      <th>Mitoses</th>\n",
       "    </tr>\n",
       "  </thead>\n",
       "  <tbody>\n",
       "    <tr>\n",
       "      <th>0</th>\n",
       "      <td>-4.662002e-09</td>\n",
       "      <td>3.810363e-08</td>\n",
       "      <td>4.475831e-08</td>\n",
       "      <td>4.435521e-08</td>\n",
       "      <td>3.993578e-08</td>\n",
       "      <td>3.692916e-08</td>\n",
       "      <td>4.386673e-08</td>\n",
       "      <td>4.157639e-08</td>\n",
       "      <td>3.639501e-08</td>\n",
       "      <td>2.354403e-08</td>\n",
       "    </tr>\n",
       "    <tr>\n",
       "      <th>1</th>\n",
       "      <td>-6.162892e-09</td>\n",
       "      <td>5.037075e-08</td>\n",
       "      <td>5.916783e-08</td>\n",
       "      <td>5.863497e-08</td>\n",
       "      <td>5.279273e-08</td>\n",
       "      <td>4.881816e-08</td>\n",
       "      <td>5.798922e-08</td>\n",
       "      <td>5.496153e-08</td>\n",
       "      <td>4.811206e-08</td>\n",
       "      <td>3.112381e-08</td>\n",
       "    </tr>\n",
       "    <tr>\n",
       "      <th>2</th>\n",
       "      <td>-8.146978e-09</td>\n",
       "      <td>6.658715e-08</td>\n",
       "      <td>7.821637e-08</td>\n",
       "      <td>7.751195e-08</td>\n",
       "      <td>6.978887e-08</td>\n",
       "      <td>6.453472e-08</td>\n",
       "      <td>7.665832e-08</td>\n",
       "      <td>7.265588e-08</td>\n",
       "      <td>6.360129e-08</td>\n",
       "      <td>4.114384e-08</td>\n",
       "    </tr>\n",
       "    <tr>\n",
       "      <th>3</th>\n",
       "      <td>-1.076982e-08</td>\n",
       "      <td>8.802426e-08</td>\n",
       "      <td>1.033974e-07</td>\n",
       "      <td>1.024662e-07</td>\n",
       "      <td>9.225674e-08</td>\n",
       "      <td>8.531106e-08</td>\n",
       "      <td>1.013377e-07</td>\n",
       "      <td>9.604676e-08</td>\n",
       "      <td>8.407713e-08</td>\n",
       "      <td>5.438971e-08</td>\n",
       "    </tr>\n",
       "    <tr>\n",
       "      <th>4</th>\n",
       "      <td>-1.423706e-08</td>\n",
       "      <td>1.163628e-07</td>\n",
       "      <td>1.366852e-07</td>\n",
       "      <td>1.354542e-07</td>\n",
       "      <td>1.219579e-07</td>\n",
       "      <td>1.127761e-07</td>\n",
       "      <td>1.339625e-07</td>\n",
       "      <td>1.269681e-07</td>\n",
       "      <td>1.111450e-07</td>\n",
       "      <td>7.189995e-08</td>\n",
       "    </tr>\n",
       "  </tbody>\n",
       "</table>\n",
       "</div>"
      ],
      "text/plain": [
       "   Sample code number  Clump Thickness  Uniformity of Cell Size  \\\n",
       "0       -4.662002e-09     3.810363e-08             4.475831e-08   \n",
       "1       -6.162892e-09     5.037075e-08             5.916783e-08   \n",
       "2       -8.146978e-09     6.658715e-08             7.821637e-08   \n",
       "3       -1.076982e-08     8.802426e-08             1.033974e-07   \n",
       "4       -1.423706e-08     1.163628e-07             1.366852e-07   \n",
       "\n",
       "   Uniformity of Cell Shape  Marginal Adhesion  Single Epithelial Cell Size  \\\n",
       "0              4.435521e-08       3.993578e-08                 3.692916e-08   \n",
       "1              5.863497e-08       5.279273e-08                 4.881816e-08   \n",
       "2              7.751195e-08       6.978887e-08                 6.453472e-08   \n",
       "3              1.024662e-07       9.225674e-08                 8.531106e-08   \n",
       "4              1.354542e-07       1.219579e-07                 1.127761e-07   \n",
       "\n",
       "    Bare Nuclei  Bland Chromatin  Normal Nucleoli       Mitoses  \n",
       "0  4.386673e-08     4.157639e-08     3.639501e-08  2.354403e-08  \n",
       "1  5.798922e-08     5.496153e-08     4.811206e-08  3.112381e-08  \n",
       "2  7.665832e-08     7.265588e-08     6.360129e-08  4.114384e-08  \n",
       "3  1.013377e-07     9.604676e-08     8.407713e-08  5.438971e-08  \n",
       "4  1.339625e-07     1.269681e-07     1.111450e-07  7.189995e-08  "
      ]
     },
     "execution_count": 34,
     "metadata": {},
     "output_type": "execute_result"
    }
   ],
   "source": [
    "from sklearn.preprocessing import scale \n",
    "from sklearn.model_selection import train_test_split\n",
    "from sklearn.linear_model import Ridge, Lasso\n",
    "from sklearn.metrics import mean_squared_error\n",
    "\n",
    "alphas = 10**np.linspace(10,-2,100)*0.5\n",
    "ridge = Ridge()\n",
    "coefs = []\n",
    "\n",
    "for a in alphas:\n",
    "    ridge.set_params(alpha = a)\n",
    "    ridge.fit(xtrain, ytrain)\n",
    "    coefs.append(ridge.coef_)\n",
    "    #print(ridge.coef_)\n",
    "    \n",
    "np.shape(coefs) \n",
    "pred1 = ridge.predict(xtest)           # Use this model to predict the test data\n",
    "temp= np.array(coefs)\n",
    "df=pd.DataFrame(temp, columns = df.columns[0:11]) # Print coefficients\n",
    "df.head() "
   ]
  },
  {
   "cell_type": "code",
   "execution_count": 35,
   "metadata": {},
   "outputs": [
    {
     "name": "stdout",
     "output_type": "stream",
     "text": [
      "Test mean squared error (MSE): 0.04\n",
      "0.8023898874450737\n"
     ]
    }
   ],
   "source": [
    "mse = mean_squared_error(ytest, pred1)          # Calculate the test MSE\n",
    "print(\"Test mean squared error (MSE): {:.2f}\".format(mse))\n",
    "\n",
    "print(ridge.score(xtest,ytest))"
   ]
  },
  {
   "cell_type": "markdown",
   "metadata": {},
   "source": [
    "### Precision-Recall Curve for Ridge1"
   ]
  },
  {
   "cell_type": "code",
   "execution_count": 36,
   "metadata": {},
   "outputs": [
    {
     "data": {
      "text/plain": [
       "<matplotlib.legend.Legend at 0x27d0acb0d90>"
      ]
     },
     "execution_count": 36,
     "metadata": {},
     "output_type": "execute_result"
    },
    {
     "data": {
      "image/png": "[encoded data removed]",
      "text/plain": [
       "<Figure size 432x288 with 1 Axes>"
      ]
     },
     "metadata": {
      "needs_background": "light"
     },
     "output_type": "display_data"
    }
   ],
   "source": [
    "from sklearn.metrics import precision_recall_curve\n",
    "import matplotlib.pyplot as plt\n",
    "\n",
    "#pass necessary parameters to precision_recall_curve method  \n",
    "precision, recall, thresholds = precision_recall_curve(ytest,pred1)\n",
    "\n",
    "plt.plot(precision, recall, label=\"precision recall curve\")\n",
    "plt.xlabel(\"Precision\")\n",
    "plt.ylabel(\"Recall\")\n",
    "plt.legend(loc=\"best\")\n"
   ]
  },
  {
   "cell_type": "markdown",
   "metadata": {},
   "source": [
    "**Q4** Train Ridge Regression Model on the training set, and evaluate\n",
    "1. Now, Create a Ridge Regression passing ```alpha = 4```\n",
    "2. Fit the model with the train data\n",
    "3. Predict the values with the test data\n",
    "4. Print the coefficients of the model\n",
    "5. Calculate the test MSE \n",
    "6. Get the score from the model using test data\n",
    "7. Plot Precision-Recall Curve from the ytest & predicted ytest\n",
    "\n",
    "**A4** Replace ??? with code in the code cell below"
   ]
  },
  {
   "cell_type": "code",
   "execution_count": 37,
   "metadata": {},
   "outputs": [
    {
     "name": "stdout",
     "output_type": "stream",
     "text": [
      "Sample code number            -0.003293\n",
      "Clump Thickness                0.087532\n",
      "Uniformity of Cell Size        0.075664\n",
      "Uniformity of Cell Shape       0.044877\n",
      "Marginal Adhesion              0.034268\n",
      "Single Epithelial Cell Size    0.016702\n",
      "Bare Nuclei                    0.158157\n",
      "Bland Chromatin                0.051284\n",
      "Normal Nucleoli                0.042838\n",
      "Mitoses                        0.001001\n",
      "dtype: float64\n",
      "Test mean squared error (MSE): 0.04\n",
      "0.802130133370343\n"
     ]
    }
   ],
   "source": [
    "ridge2 = Ridge(alpha=4)\n",
    "ridge2.fit(xtrain,ytrain)            \n",
    "pred2 = ridge2.predict(xtest)      \n",
    "\n",
    "#print model coefficients      \n",
    "print(pd.Series(ridge2.coef_, index = df.columns[0:11])) \n",
    "mse = mean_squared_error(ytest, pred2)       \n",
    "print(\"Test mean squared error (MSE): {:.2f}\".format(mse))\n",
    "\n",
    "#print score  \n",
    "print(ridge2.score(xtest,ytest))"
   ]
  },
  {
   "cell_type": "code",
   "execution_count": 38,
   "metadata": {},
   "outputs": [
    {
     "data": {
      "text/plain": [
       "<matplotlib.legend.Legend at 0x27d0ad0bf10>"
      ]
     },
     "execution_count": 38,
     "metadata": {},
     "output_type": "execute_result"
    },
    {
     "data": {
      "image/png": "[encoded data removed]",
      "text/plain": [
       "<Figure size 432x288 with 1 Axes>"
      ]
     },
     "metadata": {
      "needs_background": "light"
     },
     "output_type": "display_data"
    }
   ],
   "source": [
    "#pass necessary parameters to precision_recall_curve method  \n",
    "precision, recall, thresholds = precision_recall_curve(ytest,pred2)\n",
    "\n",
    "plt.plot(precision, recall, label=\"precision recall curve\")\n",
    "plt.xlabel(\"Precision\")\n",
    "plt.ylabel(\"Recall\")\n",
    "plt.legend(loc=\"best\")"
   ]
  },
  {
   "cell_type": "markdown",
   "metadata": {},
   "source": [
    "**Q5** Train Ridge Regression Model on the training set, and evaluate\n",
    "1. Now, Create a Ridge Regression passing ```alpha = 100```\n",
    "2. Fit the model with the train data\n",
    "3. Predict the values with the test data\n",
    "4. Print the coefficients of the model\n",
    "5. Calculate the test MSE \n",
    "6. Get the score from the model using test data\n",
    "7. Plot Precision-Recall Curve from the ytest & predicted ytest\n",
    "\n",
    "**A5** Replace ??? with code in the code cell below"
   ]
  },
  {
   "cell_type": "code",
   "execution_count": 39,
   "metadata": {},
   "outputs": [
    {
     "name": "stdout",
     "output_type": "stream",
     "text": [
      "Sample code number            -2.331002e-09\n",
      "Clump Thickness                1.905182e-08\n",
      "Uniformity of Cell Size        2.237916e-08\n",
      "Uniformity of Cell Shape       2.217761e-08\n",
      "Marginal Adhesion              1.996790e-08\n",
      "Single Epithelial Cell Size    1.846459e-08\n",
      "Bare Nuclei                    2.193337e-08\n",
      "Bland Chromatin                2.078820e-08\n",
      "Normal Nucleoli                1.819751e-08\n",
      "Mitoses                        1.177202e-08\n",
      "dtype: float64\n",
      "Test mean squared error (MSE): 0.23\n",
      "-2.5116746995346162e-05\n"
     ]
    }
   ],
   "source": [
    "ridge3 = Ridge(alpha=10**10)\n",
    "ridge3.fit(xtrain,ytrain)             \n",
    "pred3 = ridge3.predict(xtest) \n",
    "\n",
    "#print model coefficients      \n",
    "print(pd.Series(ridge3.coef_, index = df.columns[0:11])) \n",
    "mse = mean_squared_error(ytest, pred3)       \n",
    "print(\"Test mean squared error (MSE): {:.2f}\".format(mse))\n",
    "\n",
    "#print score\n",
    "print(ridge3.score(xtest,ytest))\n"
   ]
  },
  {
   "cell_type": "code",
   "execution_count": 40,
   "metadata": {},
   "outputs": [
    {
     "data": {
      "text/plain": [
       "<matplotlib.legend.Legend at 0x27d0ad16e80>"
      ]
     },
     "execution_count": 40,
     "metadata": {},
     "output_type": "execute_result"
    },
    {
     "data": {
      "image/png": "[encoded data removed]",
      "text/plain": [
       "<Figure size 432x288 with 1 Axes>"
      ]
     },
     "metadata": {
      "needs_background": "light"
     },
     "output_type": "display_data"
    }
   ],
   "source": [
    "#pass necessary parameters to precision_recall_curve method  \n",
    "precision, recall, thresholds = precision_recall_curve(ytest,pred3)\n",
    "\n",
    "plt.plot(precision, recall, label=\"precision recall curve\")\n",
    "plt.xlabel(\"Precision\")\n",
    "plt.ylabel(\"Recall\")\n",
    "plt.legend(loc=\"best\")"
   ]
  },
  {
   "cell_type": "markdown",
   "metadata": {},
   "source": [
    "**Q6** Train Ridge Regression Model on the training set, and evaluate\n",
    "1. Now, Create a Ridge Regression passing ```alpha = 0```\n",
    "2. Fit the model with the train data\n",
    "3. Predict the values with the test data\n",
    "4. Print the coefficients of the model\n",
    "5. Calculate the test MSE \n",
    "6. Get the score from the model using test data\n",
    "7. Plot Precision-Recall Curve from the ytest & predicted ytest\n",
    "\n",
    "**A6** Replace ??? with code in the code cell below"
   ]
  },
  {
   "cell_type": "code",
   "execution_count": 41,
   "metadata": {},
   "outputs": [
    {
     "name": "stdout",
     "output_type": "stream",
     "text": [
      "Sample code number            -0.003219\n",
      "Clump Thickness                0.087871\n",
      "Uniformity of Cell Size        0.077343\n",
      "Uniformity of Cell Shape       0.043261\n",
      "Marginal Adhesion              0.033596\n",
      "Single Epithelial Cell Size    0.016079\n",
      "Bare Nuclei                    0.160212\n",
      "Bland Chromatin                0.050834\n",
      "Normal Nucleoli                0.042989\n",
      "Mitoses                        0.000754\n",
      "dtype: float64\n",
      "Test mean squared error (MSE): 0.04\n",
      "Test mean squared error (MSE): 0.04\n",
      "0.8023901980651066\n"
     ]
    }
   ],
   "source": [
    "ridge4 = Ridge(alpha=0)\n",
    "ridge4.fit(xtrain,ytrain)             \n",
    "pred4 = ridge4.predict(xtest)   \n",
    "\n",
    "#print model coefficients      \n",
    "print(pd.Series(ridge4.coef_, index = df.columns[0:11])) \n",
    "mse = mean_squared_error(ytest, pred4)      \n",
    "print(\"Test mean squared error (MSE): {:.2f}\".format(mse))\n",
    "\n",
    "#print score      \n",
    "print(\"Test mean squared error (MSE): {:.2f}\".format(mse))\n",
    "print(ridge4.score(xtest,ytest))"
   ]
  },
  {
   "cell_type": "code",
   "execution_count": 42,
   "metadata": {},
   "outputs": [
    {
     "data": {
      "text/plain": [
       "<matplotlib.legend.Legend at 0x27d0aa42550>"
      ]
     },
     "execution_count": 42,
     "metadata": {},
     "output_type": "execute_result"
    },
    {
     "data": {
      "image/png": "[encoded data removed]",
      "text/plain": [
       "<Figure size 432x288 with 1 Axes>"
      ]
     },
     "metadata": {
      "needs_background": "light"
     },
     "output_type": "display_data"
    }
   ],
   "source": [
    "#pass necessary parameters to precision_recall_curve method  \n",
    "precision, recall, thresholds = precision_recall_curve(ytest,pred4)\n",
    "\n",
    "plt.plot(precision, recall, label=\"precision recall curve\")\n",
    "plt.xlabel(\"Precision\")\n",
    "plt.ylabel(\"Recall\")\n",
    "plt.legend(loc=\"best\")"
   ]
  },
  {
   "cell_type": "markdown",
   "metadata": {},
   "source": [
    "**Q7** **Study the codes above and answer the following questions:**\n",
    "\n",
    "1. Why when passing alpha = 100, the coefficients become very small? \n",
    "2. Does alpha = 4 improve the MSE comparing to regular least squares?\n",
    "3. How the size of alphas affects MSE and the Score of the models? \n",
    "\n",
    "\n",
    "**A7** Your answers:\n"
   ]
  },
  {
   "cell_type": "markdown",
   "metadata": {},
   "source": [
    "# Lasso Regularization"
   ]
  },
  {
   "cell_type": "markdown",
   "metadata": {},
   "source": [
    "**Q8 Create a Lasso Regression passing ```max_iter = 10000```**\n",
    "\n",
    "1. set the alphas from the 2nd question for setting parameters in Lasso\n",
    "2. Fit the model with the train data\n",
    "3. Predict the values with the test data\n",
    "4. Print the coefficients of the model\n",
    "5. Calculate the test MSE \n",
    "6. Get the score from the model using test data\n",
    "7. Plot Precision-Recall Curve from the ytest & predicted ytest\n",
    "\n",
    "\n",
    "**A8** \n",
    "\n",
    "Replace ??? with code in the code cell below\n"
   ]
  },
  {
   "cell_type": "code",
   "execution_count": 43,
   "metadata": {},
   "outputs": [
    {
     "name": "stdout",
     "output_type": "stream",
     "text": [
      "Sample code number            -0.000000\n",
      "Clump Thickness                0.085714\n",
      "Uniformity of Cell Size        0.078776\n",
      "Uniformity of Cell Shape       0.043402\n",
      "Marginal Adhesion              0.032878\n",
      "Single Epithelial Cell Size    0.014340\n",
      "Bare Nuclei                    0.159127\n",
      "Bland Chromatin                0.050126\n",
      "Normal Nucleoli                0.040969\n",
      "Mitoses                        0.000000\n",
      "dtype: float64\n",
      "Test mean squared error (MSE): 0.04\n",
      "0.8010465845148144\n"
     ]
    }
   ],
   "source": [
    "#Lasso regression\n",
    "lasso = Lasso(max_iter = 10000)\n",
    "coefs = []\n",
    "\n",
    "for a in alphas:\n",
    "    lasso.set_params(alpha=a)\n",
    "    lasso.fit(xtrain, ytrain)\n",
    "    coefs.append(lasso.coef_)\n",
    "\n",
    "np.shape(coefs) \n",
    "\n",
    "pred1_lasso = lasso.predict(xtest)           # Use this model to predict the test data\n",
    "print(pd.Series(lasso.coef_, index = df.columns[0:11])) # Print coefficients\n",
    "mse = mean_squared_error(ytest, pred1_lasso)          # Calculate the test MSE\n",
    "print(\"Test mean squared error (MSE): {:.2f}\".format(mse))\n",
    "\n",
    "print(lasso.score(xtest,ytest))"
   ]
  },
  {
   "cell_type": "code",
   "execution_count": 44,
   "metadata": {},
   "outputs": [
    {
     "data": {
      "text/plain": [
       "Text(0, 0.5, 'Recall')"
      ]
     },
     "execution_count": 44,
     "metadata": {},
     "output_type": "execute_result"
    },
    {
     "data": {
      "image/png": "[encoded data removed]",
      "text/plain": [
       "<Figure size 432x288 with 1 Axes>"
      ]
     },
     "metadata": {
      "needs_background": "light"
     },
     "output_type": "display_data"
    }
   ],
   "source": [
    "#pass necessary parameters to precision_recall_curve method  \n",
    "precision, recall, thresholds = precision_recall_curve(ytest,pred1_lasso)\n",
    "\n",
    "plt.plot(precision, recall, label=\"precision recall curve\")\n",
    "plt.xlabel(\"Precision\")\n",
    "plt.ylabel(\"Recall\")"
   ]
  },
  {
   "cell_type": "markdown",
   "metadata": {},
   "source": [
    "## ElasticNet"
   ]
  },
  {
   "cell_type": "markdown",
   "metadata": {},
   "source": [
    "**Q9 Create a ElasticNet passing ```max_iter = 10000```**\n",
    "\n",
    "1. Use Cross Validation 15 times for searching best value of alpha for ElasticNet.\n",
    "2. Fit the model with the train data\n",
    "3. Print the ```best_alpha``` value\n",
    "3. Create a new ElasticNet using best value of alpha\n",
    "4. Fit the model with the train data\n",
    "4. Print the coefficients of the model\n",
    "5. Calculate the test MSE \n",
    "6. Get the score from the model using test data\n",
    "7. Plot Precision-Recall Curve from the ytest & predicted ytest\n",
    "\n",
    "\n",
    "**A9** \n",
    "\n",
    "Replace ??? with code in the code cell below\n"
   ]
  },
  {
   "cell_type": "code",
   "execution_count": 45,
   "metadata": {},
   "outputs": [
    {
     "name": "stdout",
     "output_type": "stream",
     "text": [
      "Best alpha: 0.01\n",
      "Test mean squared error (MSE): 0.04\n",
      "Sample code number            -0.000000\n",
      "Clump Thickness                0.085363\n",
      "Uniformity of Cell Size        0.077517\n",
      "Uniformity of Cell Shape       0.044659\n",
      "Marginal Adhesion              0.033360\n",
      "Single Epithelial Cell Size    0.014763\n",
      "Bare Nuclei                    0.157530\n",
      "Bland Chromatin                0.050410\n",
      "Normal Nucleoli                0.040779\n",
      "Mitoses                        0.000000\n",
      "dtype: float64\n"
     ]
    }
   ],
   "source": [
    "from sklearn.linear_model import ElasticNet\n",
    "from sklearn.linear_model import ElasticNetCV\n",
    "\n",
    "enetcv = ElasticNetCV(cv = 10, max_iter = 100000)\n",
    "enetcv.fit(xtrain, ytrain)\n",
    "print(\"Best alpha: {:.2f}\".format(enetcv.alpha_))\n",
    "\n",
    "enet = ElasticNet(max_iter = 10000)\n",
    "enet.set_params(alpha=enetcv.alpha_)\n",
    "enet.fit(xtrain, ytrain)\n",
    "mse = mean_squared_error(ytest, enet.predict(xtest))\n",
    "print(\"Test mean squared error (MSE): {:.2f}\".format(mse))\n",
    "\n",
    "print(pd.Series(enet.coef_, index = df.columns[0:11]))"
   ]
  },
  {
   "cell_type": "code",
   "execution_count": 46,
   "metadata": {},
   "outputs": [
    {
     "data": {
      "text/plain": [
       "Text(0, 0.5, 'Recall')"
      ]
     },
     "execution_count": 46,
     "metadata": {},
     "output_type": "execute_result"
    },
    {
     "data": {
      "image/png": "[encoded data removed]",
      "text/plain": [
       "<Figure size 432x288 with 1 Axes>"
      ]
     },
     "metadata": {
      "needs_background": "light"
     },
     "output_type": "display_data"
    }
   ],
   "source": [
    "#pass necessary parameters to precision_recall_curve method  \n",
    "precision, recall, thresholds = precision_recall_curve(ytest,enet.predict(xtest))\n",
    "\n",
    "plt.plot(precision, recall, label=\"precision recall curve\")\n",
    "plt.xlabel(\"Precision\")\n",
    "plt.ylabel(\"Recall\")"
   ]
  },
  {
   "cell_type": "markdown",
   "metadata": {},
   "source": [
    "\n",
    "**Q10 Observe the lasso.coef and ridge.coef, and discuss the findings below**\n",
    "\n",
    "\n",
    "**A10**  \n",
    "\n",
    "Your answer goes here: \n",
    "\n"
   ]
  },
  {
   "cell_type": "markdown",
   "metadata": {},
   "source": [
    "**Q11**\n",
    "\n",
    "1. Is it a good choice to use Lasso regression when most of the columns are significantly useful for the target value? Give explanation supporting your answer.\n",
    "\n",
    "**A11** \n",
    "\n",
    "Your answer goes here:"
   ]
  }
 ],
 "metadata": {
  "colab": {
   "collapsed_sections": [],
   "name": "Copy of CS4347-Assignment2-NETID.ipynb",
   "provenance": [
    {
     "file_id": "1vsORsvIGVbJ2cNHR1lIPDIuGobP25ZPq",
     "timestamp": 1629391503766
    },
    {
     "file_id": "1vuQua73YBPg3xOVKXACAGdS_8R1OlQdX",
     "timestamp": 1611597429764
    },
    {
     "file_id": "1Jr8VoifAgTlPqVE_AiCDeWbiHGEyvkxq",
     "timestamp": 1580784119108
    }
   ]
  },
  "kernelspec": {
   "display_name": "Python 3 (ipykernel)",
   "language": "python",
   "name": "python3"
  },
  "language_info": {
   "codemirror_mode": {
    "name": "ipython",
    "version": 3
   },
   "file_extension": ".py",
   "mimetype": "text/x-python",
   "name": "python",
   "nbconvert_exporter": "python",
   "pygments_lexer": "ipython3",
   "version": "3.9.13"
  },
  "vscode": {
   "interpreter": {
    "hash": "6e3520c759e5572dcce85a4d2a3287416a08b75cbd9d64f3e9845a08c03ad027"
   }
  }
 },
 "nbformat": 4,
 "nbformat_minor": 2
}
