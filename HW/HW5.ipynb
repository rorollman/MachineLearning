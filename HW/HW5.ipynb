{
 "cells": [
  {
   "cell_type": "markdown",
   "metadata": {},
   "source": [
    "# HW 5\n",
    "\n",
    "This assignment covers Linear Classification methods\n",
    "\n",
    "**DO NOT ERASE MARKDOWN CELLS AND INSTRUCTIONS IN YOUR HW submission**\n",
    "  * **Q** - QUESTION\n",
    "  * **A** - Where to input your answer\n",
    "\n",
    "## Instructions\n",
    "\n",
    "Keep the following in mind for all notebooks you develop:\n",
    "* Structure your notebook. \n",
    "* Use headings with meaningful levels in Markdown cells, and explain the questions each piece of code is to answer or the reason it is there.\n",
    "* Make sure your notebook can always be rerun from top to bottom.\n",
    "* Please start working on this assignment as soon as possible. If you are a beginner in Python this might take a long time. One of the objectives of this assignment is to help you learn python and scikit-learn package. \n",
    "* See [README.md](README.md) for homework submission instructions\n",
    "\n",
    "## Related Tutorials\n",
    "\n",
    "### Refreshers\n",
    "* [Intro to Machine Learning w scikit-learn](https://scikit-learn.org/stable/tutorial/basic/tutorial.html)\n",
    "* [A tutorial on statistical-learning for scientific data processing](https://scikit-learn.org/stable/tutorial/statistical_inference/index.html#stat-learn-tut-index)\n",
    " \n",
    "### Classification Approaches\n",
    "* [Logistic Regression with Sklearn](https://scikit-learn.org/stable/modules/generated/sklearn.linear_model.LogisticRegression.html)\n",
    "* [KNN with sklearn](https://scikit-learn.org/stable/modules/generated/sklearn.neighbors.KNeighborsClassifier.html)\n",
    "  \n",
    "### Modeling   \n",
    "* [Cross-validation](https://scikit-learn.org/stable/modules/cross_validation.html)\n",
    "* [Plot Confursion Matrix with Sklearn](https://scikit-learn.org/stable/auto_examples/model_selection/plot_confusion_matrix.html)\n",
    "* [Confusion Matrix Display](https://scikit-learn.org/stable/modules/generated/sklearn.metrics.ConfusionMatrixDisplay.html#sklearn.metrics)"
   ]
  },
  {
   "cell_type": "markdown",
   "metadata": {},
   "source": [
    "# Data Processing"
   ]
  },
  {
   "cell_type": "markdown",
   "metadata": {},
   "source": [
    "**Q1** Get training data from the dataframe\n",
    "1. Load mobile_data.csv from ```data'' folder into the dataframe\n",
    "3. Assign values of ```price_range``` column to ```y```\n",
    "4. Drop 'price_range' column from data frame,\n",
    "5. Assign remaining df column values to x\n",
    "6. Print the head of the dataframe\n",
    "\n",
    "**A1** Replace ??? with code in the code cell below"
   ]
  },
  {
   "cell_type": "code",
   "execution_count": null,
   "metadata": {},
   "outputs": [],
   "source": [
    "import numpy as np\n",
    "import pandas as pd\n",
    "from sklearn.model_selection import train_test_split\n",
    "from sklearn.linear_model import LogisticRegression\n",
    "from matplotlib import pyplot as plt\n",
    "from sklearn.preprocessing import StandardScaler\n",
    "\n",
    "#Read the mobile_data.csv file using the prropriate separator as input to read_csv()\n",
    "df = pd.??\n",
    "\n",
    "df.head()\n",
    "\n"
   ]
  },
  {
   "cell_type": "code",
   "execution_count": null,
   "metadata": {},
   "outputs": [],
   "source": [
    "df.??"
   ]
  },
  {
   "cell_type": "code",
   "execution_count": null,
   "metadata": {},
   "outputs": [],
   "source": [
    "y= ??\n",
    "\n",
    "x= ??"
   ]
  },
  {
   "cell_type": "code",
   "execution_count": null,
   "metadata": {},
   "outputs": [],
   "source": [
    "df.head()"
   ]
  },
  {
   "cell_type": "markdown",
   "metadata": {},
   "source": [
    "**Q2:**\n",
    "1. Check number of null values per column in the x dataframe.\n",
    "\n",
    "**A2** Replace ??? with code in the code cell below"
   ]
  },
  {
   "cell_type": "code",
   "execution_count": null,
   "metadata": {},
   "outputs": [],
   "source": [
    "x.??"
   ]
  },
  {
   "cell_type": "markdown",
   "metadata": {},
   "source": [
    "**Q3.1**  Use seaborn heatmap chart to visualize the correlations between the columns.  Replace ??? with code in the code cell below\n",
    "\n",
    "**A3.1**"
   ]
  },
  {
   "cell_type": "code",
   "execution_count": null,
   "metadata": {},
   "outputs": [],
   "source": [
    "import seaborn as sns\n",
    "plt.figure(figsize=(18,12))\n",
    "sns.??"
   ]
  },
  {
   "cell_type": "markdown",
   "metadata": {},
   "source": [
    "**Q3.2** List columns that correlate the most with the 'price_range' column.\n",
    "\n",
    "**Note:** For this dataset any column that has correlation factor over or near 0.1 can be considered as a good predictor/ feature. \n",
    "\n",
    "**A3.2** Answer here"
   ]
  },
  {
   "cell_type": "markdown",
   "metadata": {},
   "source": [
    "**Q3.3** Update the 'x' dataframe defined earlier in Q1 with your selected features/columns for 'price_range'.\n",
    "\n",
    "**A3.3** Replace ??? with code in the code cell below"
   ]
  },
  {
   "cell_type": "code",
   "execution_count": null,
   "metadata": {},
   "outputs": [],
   "source": [
    "# A3 Part 3:\n",
    "\n",
    "x = ??"
   ]
  },
  {
   "cell_type": "markdown",
   "metadata": {},
   "source": [
    "**Q4:** Use seaborn _histplot_ to plot a distribution graph for the price_range column\n",
    "\n",
    "**A4** Replace ??? with code in the code cell below"
   ]
  },
  {
   "cell_type": "code",
   "execution_count": null,
   "metadata": {},
   "outputs": [],
   "source": [
    "plt.figure(figsize=(4,3),dpi=150)\n",
    "sns.?"
   ]
  },
  {
   "cell_type": "markdown",
   "metadata": {},
   "source": [
    "**Q5:** Use seaborn _histplot_ to present the relation between _price_range_ and the _ram_ of a mobile\n",
    "\n",
    "**A5** Replace ??? with code in the code cell below"
   ]
  },
  {
   "cell_type": "code",
   "execution_count": null,
   "metadata": {},
   "outputs": [],
   "source": [
    "sns.?"
   ]
  },
  {
   "cell_type": "markdown",
   "metadata": {},
   "source": [
    "**Q6:**\n",
    "1. Use StandardScaler from sklearn to transform the x dataframe.\n",
    "2. Split dataset into train and test data use train_test_split with test_size = 0.2 and random_state = 42\n",
    "3. Check the number of instance in the train and test set.\n",
    "4. Check the number of instance per class in train and test set using ytrain and ytest\n",
    "\n",
    "**A6** Replace ??? with code in the code cell below"
   ]
  },
  {
   "cell_type": "code",
   "execution_count": null,
   "metadata": {},
   "outputs": [],
   "source": [
    "scaler = ?\n",
    "scaler.?\n",
    "x= scaler.?"
   ]
  },
  {
   "cell_type": "code",
   "execution_count": null,
   "metadata": {},
   "outputs": [],
   "source": [
    "xtrain, xtest, ytrain, ytest = ?"
   ]
  },
  {
   "cell_type": "code",
   "execution_count": null,
   "metadata": {},
   "outputs": [],
   "source": [
    "print(?)\n",
    "print(?)"
   ]
  },
  {
   "cell_type": "code",
   "execution_count": null,
   "metadata": {},
   "outputs": [],
   "source": [
    "ytrain.?"
   ]
  },
  {
   "cell_type": "code",
   "execution_count": null,
   "metadata": {},
   "outputs": [],
   "source": [
    "ytest.?"
   ]
  },
  {
   "cell_type": "markdown",
   "metadata": {
    "id": "NsUM8-i_KhK1"
   },
   "source": [
    "# Classification Model 1: Logistic Regression\n",
    "\n",
    "Here, we fit Logistic Regression model to the train dataset using K-fold cross validation"
   ]
  },
  {
   "cell_type": "markdown",
   "metadata": {},
   "source": [
    "**Q7** Train Logistic Regression Model\n",
    "1. Create a logistic regression model using sklearn [linear_model](https://scikit-learn.org/stable/modules/generated/sklearn.linear_model.LogisticRegression.html) library.\n",
    "2. Fit the model with the train data \n",
    "3. Get the score from the model using test data\n",
    "4. Plot confusion matrix using [ConfusionMatrixDisplay](https://scikit-learn.org/stable/modules/generated/sklearn.metrics.ConfusionMatrixDisplay.html), see [Visualization with Display Objects](https://scikit-learn.org/stable/auto_examples/miscellaneous/plot_display_object_visualization.html) example. \n",
    "\n",
    "**A7** Replace ??? with code in the code cell below"
   ]
  },
  {
   "cell_type": "code",
   "execution_count": null,
   "metadata": {
    "id": "2QutY2XJWps5"
   },
   "outputs": [],
   "source": [
    "from sklearn.metrics import ConfusionMatrixDisplay\n",
    "import matplotlib.pyplot as plt\n",
    "\n",
    "# Create a logistic regression model using sklearn library\n",
    "clf=?\n",
    "clf.?\n",
    "\n",
    "#print score for test data\n",
    "print(?)"
   ]
  },
  {
   "cell_type": "code",
   "execution_count": null,
   "metadata": {},
   "outputs": [],
   "source": [
    "cm = ?\n",
    "plt.title(\"Logistic Reg. Model - Confusion Matrix\")\n",
    "plt.xticks(range(4), [\"Class 0\",\"Class 1\", \"Class 2\", \"Class 3\"], fontsize=11)\n",
    "plt.yticks(range(4), [\"Class 0\",\"Class 1\", \"Class 2\",\"Class 3\"], fontsize=11)\n",
    "plt.show()"
   ]
  },
  {
   "cell_type": "markdown",
   "metadata": {},
   "source": [
    "**Q8:** Train Logistic Regression Model using cross-validation on _xtrain, ytrain_ data.\n",
    "* Apply K fold cross validation technique for the model training (cross_val_score), and set K to 5 or 10. \n",
    "* Print the different scores from different folds\n",
    "\n",
    "**A8:** Replace ??? with code in the code cell below"
   ]
  },
  {
   "cell_type": "code",
   "execution_count": null,
   "metadata": {},
   "outputs": [],
   "source": [
    "from sklearn.model_selection import cross_val_score\n",
    "\n",
    "# Use sklearn for 5 fold cross validation \n",
    "scores_log= ?\n",
    "\n",
    "# print the scores from different folds\n",
    "print(?)"
   ]
  },
  {
   "cell_type": "markdown",
   "metadata": {},
   "source": [
    "# Classification Model 2: K Nearest Neighbor Classifier\n",
    "\n",
    "Here, we learn how to fit KNN on the train dataset using k-fold cross validation, and evaluate its classification accuracy on the train dataset using confusion matrix. "
   ]
  },
  {
   "cell_type": "markdown",
   "metadata": {},
   "source": [
    "**Q9** Build a KNN Classification Model for the dataset as following: \n",
    "\n",
    "1. Create a KNN model using sklearn library,  and initialize n_neighbors as described in [documentation](https://scikit-learn.org/stable/modules/generated/sklearn.neighbors.KNeighborsClassifier.html). \n",
    "2. Fit the model with the train data \n",
    "3. Predict the values from test data\n",
    "4. Print out the score from training and test data  \n",
    "5. Repeat Step 1.- 4. for a range of ```n_neighbors``` values (k in kNN) from 1 to 30.\n",
    "\n",
    "**A9** Replace ??? with code in the code cell below"
   ]
  },
  {
   "cell_type": "code",
   "execution_count": null,
   "metadata": {
    "id": "GnWx52bqbOgz"
   },
   "outputs": [],
   "source": [
    "from sklearn.neighbors import KNeighborsClassifier\n",
    "\n",
    "\n",
    "# Define KNN model\n",
    "for k in range(?,?):\n",
    "\n",
    "    knn = ?\n",
    "\n",
    "    #Fit KNN model on xtrain, ytrain from above\n",
    "    knn.?\n",
    "    #predict y values from xtest\n",
    "    y_pred=knn.?\n",
    "\n",
    "    #print score for test data\n",
    "    print(\"K: \",k,\"Train Score: \",knn.?, \"Test Score: \",knn.?)"
   ]
  },
  {
   "cell_type": "markdown",
   "metadata": {},
   "source": [
    "**Q9 Part 2:** \n",
    "\n",
    " What is the best ```n_neighbors```? Why?\n",
    "\n",
    "**A9** Write your part 2 answer in this cell\n"
   ]
  },
  {
   "cell_type": "markdown",
   "metadata": {},
   "source": [
    "**Q10.** \n",
    "\n",
    "1. Create a KNN Classifier model using the best value of k found from previous question.\n",
    "2. Train the model using xtrain, ytrain values.\n",
    "2. Plot confusion matrix for the xtest and ytest, using [ConfusionMatrixDisplay](https://scikit-learn.org/stable/modules/generated/sklearn.metrics.ConfusionMatrixDisplay.html), see [Visualization with Display Objects](https://scikit-learn.org/stable/auto_examples/miscellaneous/plot_display_object_visualization.html) example. \n",
    "\n",
    "\n",
    "**A10** Replace ??? with code in the code cell below\n"
   ]
  },
  {
   "cell_type": "code",
   "execution_count": null,
   "metadata": {},
   "outputs": [],
   "source": [
    "knn_best = ?\n",
    "\n",
    "knn_best.?"
   ]
  },
  {
   "cell_type": "code",
   "execution_count": null,
   "metadata": {},
   "outputs": [],
   "source": [
    "cm = ?\n",
    "#plt.figure()\n",
    "#plot_confusion_matrix(cm, figsize=(12,8), hide_ticks=True, cmap=plt.cm.Blues)\n",
    "plt.title(\"KNN Classifier Model - Confusion Matrix\")\n",
    "plt.xticks(?)\n",
    "plt.yticks(?)\n",
    "plt.show()"
   ]
  },
  {
   "cell_type": "markdown",
   "metadata": {},
   "source": [
    "**Q11** Train KNN classifier using cross-validation approach, [sklearn.cross_validation](https://scikit-learn.org/stable/modules/cross_validation.html) tutorial.\n",
    "\n",
    "**Note:**\n",
    "\n",
    "Try a range of ```n_neighbors``` values (k in kNN) from 1 to 30. \n",
    "\n",
    "**A11** Replace ??? with code in the code cell below **"
   ]
  },
  {
   "cell_type": "code",
   "execution_count": null,
   "metadata": {},
   "outputs": [],
   "source": [
    "# Define KNN model\n",
    "from sklearn.model_selection import cross_val_score\n",
    "\n",
    "for k in range(? , ?):\n",
    "    #Define KNN model\n",
    "    knn_crossval = ?\n",
    "    \n",
    "    # Use sklearn for 5 fold cross validation \n",
    "    scores_cv=?\n",
    "\n",
    "    # print the scores from different folds\n",
    "    print(?)"
   ]
  },
  {
   "cell_type": "markdown",
   "metadata": {},
   "source": [
    "# Comparison\n",
    "\n",
    "**Q12** Compare the two models (trained using xtrain,ytrain) in terms of score. \n",
    "* Train two different models on Train data\n",
    "* Predict xtest using the trained models\n",
    "* Make a correlation matrix between ytest and predicted ytest values from the two Models\n",
    "* Your resulting matrix should be ```3x3 correlation matrix``` for xtest, ytest data\n",
    "  * The matrix is symmetric\n",
    "  * It will provide the correlation between two models predictions plus ytest\n",
    "  * Hint: You can create a new dataframe using these values and use corr() function for creating the corelation matrix. Use meaningful column name while creating the dataframe.\n",
    "  \n",
    "**A12**\n",
    "Replace ??? with code in the code cell below"
   ]
  },
  {
   "cell_type": "code",
   "execution_count": null,
   "metadata": {},
   "outputs": [],
   "source": [
    "import matplotlib.pyplot as plt\n",
    "import seaborn as sns\n",
    "\n",
    "# Predict Train dataset using logistic reg\n",
    "clf= LogisticRegression()\n",
    "clf.?\n",
    "ypred_clf=?\n",
    "\n",
    "# Predict Train dataset using KNN\n",
    "knn= KNeighborsClassifier(n_neighbors=29)\n",
    "knn.?\n",
    "ypred_knn=?\n",
    "\n",
    "print(ytest.shape, ypred_clf.shape, ypred_knn.shape)\n",
    "# Create a dataframe using the predicted results from the models\n",
    "df = ?\n",
    "\n",
    "#copute correlation \n",
    "\n",
    "# Now use seaborn library to plot the heatmap correlation matrix\n",
    "plt.figure(figsize=(8,8))\n",
    "sns.?"
   ]
  }
 ],
 "metadata": {
  "colab": {
   "collapsed_sections": [],
   "name": "Copy of CS4347-Assignment2-NETID.ipynb",
   "provenance": [
    {
     "file_id": "1vsORsvIGVbJ2cNHR1lIPDIuGobP25ZPq",
     "timestamp": 1629391503766
    },
    {
     "file_id": "1vuQua73YBPg3xOVKXACAGdS_8R1OlQdX",
     "timestamp": 1611597429764
    },
    {
     "file_id": "1Jr8VoifAgTlPqVE_AiCDeWbiHGEyvkxq",
     "timestamp": 1580784119108
    }
   ]
  },
  "kernelspec": {
   "display_name": "Python 3 (ipykernel)",
   "language": "python",
   "name": "python3"
  },
  "language_info": {
   "codemirror_mode": {
    "name": "ipython",
    "version": 3
   },
   "file_extension": ".py",
   "mimetype": "text/x-python",
   "name": "python",
   "nbconvert_exporter": "python",
   "pygments_lexer": "ipython3",
   "version": "3.8.8"
  },
  "vscode": {
   "interpreter": {
    "hash": "6e3520c759e5572dcce85a4d2a3287416a08b75cbd9d64f3e9845a08c03ad027"
   }
  }
 },
 "nbformat": 4,
 "nbformat_minor": 2
}
