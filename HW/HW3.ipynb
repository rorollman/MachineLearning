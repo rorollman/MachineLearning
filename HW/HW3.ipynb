{
 "cells": [
  {
   "cell_type": "markdown",
   "metadata": {},
   "source": [
    "# HW 3\n",
    "\n",
    "This assignment covers several aspects of Linear Regresstion. \n",
    "**DO NOT ERASE MARKDOWN CELLS AND INSTRUCTIONS IN YOUR HW submission**\n",
    "\n",
    "  * **Q** - QUESTION\n",
    "  * **A** - Where to input your answer\n",
    "\n",
    "## Instructions\n",
    "\n",
    "Keep the following in mind for all notebooks you develop:\n",
    "* Structure your notebook. \n",
    "* Use headings with meaningful levels in Markdown cells, and explain the questions each piece of code is to answer or the reason it is there.\n",
    "* Make sure your notebook can always be rerun from top to bottom.\n",
    "* Please start working on this assignment as soon as possible. If you are a beginner in Python this might take a long time. One of the objectives of this assignment is to help you learn python and scikit-learn package. \n",
    "* Follow [README.md](README.md) for homework submission instructions\n",
    "\n",
    "\n",
    "## Tutorials\n",
    "\n",
    "* [scikit-learn linear model](https://scikit-learn.org/stable/modules/linear_model.html)\n",
    "* [train-test-split](https://towardsdatascience.com/train-test-split-and-cross-validation-in-python-80b61beca4b6)\n",
    "* [least squares fitting](https://python4mpia.github.io/fitting_data/least-squares-fitting.html)\n",
    "* [Linear Regression](https://scikit-learn.org/stable/modules/generated/sklearn.linear_model.LinearRegression.html)\n",
    "* [Seaborn](https://seaborn.pydata.org/api.html)\n"
   ]
  },
  {
   "cell_type": "markdown",
   "metadata": {
    "id": "Xywj2VETsyKa"
   },
   "source": [
    "# REGRESSION TASK USING SKLEARN\n",
    "\n",
    "In jupyter notebook environment, commands starting with the symbol % are magic commands or magic functions. ```%%timeit``` is one of such function. It basically gives you the speed of execution  of certain statement or blocks of codes."
   ]
  },
  {
   "cell_type": "code",
   "execution_count": null,
   "metadata": {},
   "outputs": [],
   "source": [
    "import pandas as pd\n",
    "import numpy as np\n",
    "import seaborn as sns"
   ]
  },
  {
   "cell_type": "markdown",
   "metadata": {},
   "source": []
  },
  {
   "cell_type": "markdown",
   "metadata": {},
   "source": [
    "**Data ** Get the exploratory data and the folowwing files:      \n",
    "https://archive.ics.uci.edu/ml/machine-learning-databases/auto-mpg/auto-mpg.data\n",
    "https://archive.ics.uci.edu/ml/machine-learning-databases/auto-mpg/auto-mpg.names\n",
    "\n",
    "**or** Use from our 2022Fall/data repository folder\n",
    "\n",
    "* Link should automatically download the data\n",
    "* copy them in your HW folder\n",
    "\n",
    "* If you are using command line: \n",
    "```>> wget https://archive.ics.uci.edu/ml/machine-learning-databases/auto-mpg/auto-mpg.data```\n",
    "  * If wget is not working \n",
    "    * dowload it from [link](https://eternallybored.org/misc/wget/) \n",
    "    * follow [steps](https://stackoverflow.com/questions/29113456/wget-not-recognized-as-internal-or-external-command)"
   ]
  },
  {
   "cell_type": "markdown",
   "metadata": {},
   "source": [
    "**Q1** Read the data using pandas, and replace the ??? in the code cell below to accomplish this taks. Note that auto-mpg.data does not have the column headers. use auto-mpg.names file to provide column names to the dataframe. \n",
    "\n",
    "**A1** "
   ]
  },
  {
   "cell_type": "code",
   "execution_count": null,
   "metadata": {
    "id": "jM-tqtgluM8q"
   },
   "outputs": [],
   "source": [
    "# Replace ??? with code in the code cell below\n",
    "column_names = [?]\n",
    "df = pd.read_csv('?.data', names=?, na_values = \"?\", comment='\\t',sep=\" \", skipinitialspace=True)"
   ]
  },
  {
   "cell_type": "code",
   "execution_count": null,
   "metadata": {},
   "outputs": [],
   "source": [
    "# View head of the data to confirm the correctness of your answer\n",
    "df.head()"
   ]
  },
  {
   "cell_type": "markdown",
   "metadata": {},
   "source": [
    "## Data cleaning and manipulation"
   ]
  },
  {
   "cell_type": "markdown",
   "metadata": {},
   "source": [
    "Use\n",
    "\n",
    "**Q2** Data cleaning and manipulation: \n",
    "1. use ```pandas.info()``` method to find columns with large number of NaN values\n",
    "2. remove the column with NaN values\n",
    "3. Check if there are still NaN values in the dataframe using ```isna()``` method\n",
    "\n",
    "**A2** Replace ??? with code in the code cell below"
   ]
  },
  {
   "cell_type": "code",
   "execution_count": null,
   "metadata": {},
   "outputs": [],
   "source": [
    "#1. use pandas.info() method to find columns with large number of NaN values\n",
    "???\n",
    "\n",
    "#2. remove the column with NaN values - replace ??? with code\n",
    "df.drop(???)\n",
    "# Print head\n",
    "df.head()\n",
    "\n",
    "#3. Check if there are still NaN values in the dataframe using ```isna()``` method - replace ??? with code \n",
    "df.???\n",
    "# drop if any left or replace Nan values\n",
    "???"
   ]
  },
  {
   "cell_type": "code",
   "execution_count": null,
   "metadata": {},
   "outputs": [],
   "source": [
    "#Print Tail\n",
    "df.head(15)"
   ]
  },
  {
   "cell_type": "markdown",
   "metadata": {
    "id": "AXFcOu-sD8Bm"
   },
   "source": [
    "**Q3:** \n",
    "1. Convert following columns 'cylinders', 'year', 'origin'  to dummy variable using pandas get_dummies() function\n",
    "2. Do data normalization on real value/continous columns\n",
    "   * The formula for normalization is: (Col_value- Mean of the col)/ Standard Deviation of the col\n",
    "\n",
    "**A3** Replace ??? with code in the code cell below"
   ]
  },
  {
   "cell_type": "code",
   "execution_count": null,
   "metadata": {
    "id": "gEDmsPJwxIZx"
   },
   "outputs": [],
   "source": [
    "# 1. Convert following columns 'cylinders', 'year', 'origin'  to dummy variable using pandas get_dummies() function\n",
    "cols = ???\n",
    "df_dummies = pd.???\n",
    "\n",
    "#show the head\n",
    "df_dummies.???\n",
    "\n",
    "# 2. Do data normalization on real value/continous columns\n",
    "realcols = ???\n",
    "\n",
    "for col in realcols:\n",
    "  mean = df[col].??\n",
    "  std = df[col].??\n",
    "  df[col] = ???"
   ]
  },
  {
   "cell_type": "markdown",
   "metadata": {},
   "source": [
    "## Regression Task"
   ]
  },
  {
   "cell_type": "markdown",
   "metadata": {},
   "source": [
    "Given all the information we will try to predict mpg - miles per gallon. The First step toward predicting the mpg from the dataset is to find the correlation between the columns/features of the dataset.  "
   ]
  },
  {
   "cell_type": "markdown",
   "metadata": {},
   "source": [
    "**Q4** \n",
    "1. Use heatmap chart from seaborn library to findout the correlation between the columns.\n",
    "2. Which of the columns is mostly related to mpg column and why?"
   ]
  },
  {
   "cell_type": "code",
   "execution_count": null,
   "metadata": {},
   "outputs": [],
   "source": [
    "# A4 code goes below\n",
    "sns.heatmap(???, ???, ???,)"
   ]
  },
  {
   "cell_type": "markdown",
   "metadata": {},
   "source": [
    "**A4**  \n",
    "Here write down the answer replacing this line."
   ]
  },
  {
   "cell_type": "markdown",
   "metadata": {},
   "source": [
    "**Q5** \n",
    "1. Draw a lineplot or scattered plot between mpg and your answer from the above cell. \n",
    "2. Use pairplot from sns to plot our data frame df for better understanding of your selection \n",
    "   * NOTE: 2. should inform 3.\n",
    "3. Choose a set of columns/ features based on pairplot and heatmap for the mpg prediction.\n",
    "* Justify your answer using some explanation from the heatmap and pairplot graph formulated from the dataset.\n",
    "\n",
    "**A5**  For 1. and 2. replace ??? with code in the code cell below.  "
   ]
  },
  {
   "cell_type": "code",
   "execution_count": null,
   "metadata": {},
   "outputs": [],
   "source": [
    "# 1. Draw a lineplot or scattered plot between mpg and your answer from the above cell.\n",
    "sns.scatterplot(???)\n",
    "# 2. Use pairplot from sns to plot our data frame df for better understanding of your selection \n",
    "sns.pairplot(???)"
   ]
  },
  {
   "cell_type": "markdown",
   "metadata": {},
   "source": [
    "**A5**  \n",
    "For 3., write down your explanation here replacing this line"
   ]
  },
  {
   "cell_type": "markdown",
   "metadata": {},
   "source": [
    "\n",
    "**Q6** Data Visualization: \n",
    "1. Now, create a histogram which represents number items with per cylinder class\n",
    "\n",
    "**A6** Replace ??? with code in the code cell below\n"
   ]
  },
  {
   "cell_type": "code",
   "execution_count": null,
   "metadata": {},
   "outputs": [],
   "source": [
    "plt.?\n",
    "plt.show()"
   ]
  },
  {
   "cell_type": "markdown",
   "metadata": {},
   "source": [
    "## Data Preparation"
   ]
  },
  {
   "cell_type": "markdown",
   "metadata": {},
   "source": [
    "**Q7** Assign mpg column value to y and rest columns to x, remember x shouldn't have mpg\n",
    "\n",
    "**A7** Replace ??? with code in the code cell below"
   ]
  },
  {
   "cell_type": "code",
   "execution_count": null,
   "metadata": {
    "id": "N7h7ez6-y6gM"
   },
   "outputs": [],
   "source": [
    "y = df.???\n",
    "df.drop(???)\n",
    "x = df.???"
   ]
  },
  {
   "cell_type": "markdown",
   "metadata": {},
   "source": [
    "**Q8** Use train_test_split to split the data set as train:test=(80%:20%) ratio.\n",
    "\n",
    "**A8** Replace ??? with code in the code cell below"
   ]
  },
  {
   "cell_type": "code",
   "execution_count": null,
   "metadata": {
    "id": "Pdo3hgPnzKzj"
   },
   "outputs": [],
   "source": [
    "from sklearn.model_selection import train_test_split\n",
    "\n",
    "xtrain, xtest, ytrain, ytest = train_test_split(?????)\n",
    "# View the shape of your data set\n",
    "xtrain.shape, xtest.shape, ytrain.shape, ytest.shape"
   ]
  },
  {
   "cell_type": "markdown",
   "metadata": {},
   "source": [
    "**Q9** Follow examples from references given in the top of this notebook  \n",
    "* Note:Use linear model to fit regression line and plot  \n",
    "* Our linear model will be of following type  \n",
    "* Y = b + coef0*x0 + coef1*x1+coef2*x2+............  \n",
    "\n",
    "**A9:** Replace ??? with code in the code cell below"
   ]
  },
  {
   "cell_type": "code",
   "execution_count": null,
   "metadata": {
    "id": "GHm6D6oIzcCU"
   },
   "outputs": [],
   "source": [
    "from sklearn import linear_model\n",
    "\n",
    "reg = linear_model.???\n",
    "reg.fit(??,??)\n",
    "\n",
    "#Now view the coefficient use .coef_ and shape of .coef_\n",
    "print(reg.coef_)\n",
    "print(reg.intercept_)\n",
    "print(reg.coef_.shape[0])"
   ]
  },
  {
   "cell_type": "markdown",
   "metadata": {},
   "source": [
    "**Q10** Relates to the code in the cell below. Why the printed values the same?"
   ]
  },
  {
   "cell_type": "code",
   "execution_count": null,
   "metadata": {},
   "outputs": [],
   "source": [
    "# Now if you view \n",
    "print(f'{reg.coef_.shape[0]},{xtrain.shape[1]}, ', f'are equal? {reg.coef_.shape[0]==xtrain.shape[1]}')"
   ]
  },
  {
   "cell_type": "markdown",
   "metadata": {},
   "source": [
    "**A10** \n",
    "Write your answer by replacing this line"
   ]
  },
  {
   "cell_type": "markdown",
   "metadata": {},
   "source": [
    "## Model Scoring"
   ]
  },
  {
   "cell_type": "code",
   "execution_count": null,
   "metadata": {
    "id": "g8k65QkO0k9b"
   },
   "outputs": [],
   "source": [
    "# Model Score \n",
    "from sklearn import linear_model\n",
    "reg = linear_model.LinearRegression()\n",
    "reg.fit(xtrain, ytrain)\n",
    "reg.score(xtest,ytest)\n",
    "\n",
    "# Calculate the score on train and test sets\n",
    "# Your code goes below\n",
    "reg.score(xtrain,ytrain), reg.score(xtest,ytest)"
   ]
  },
  {
   "cell_type": "markdown",
   "metadata": {},
   "source": [
    "**Q11**  Each of the sklearn models have different model evaluations core value.  \n",
    "* LinearRegression [documentation](https://scikit-learn.org/stable/modules/generated/sklearn.linear_model.LinearRegression.html)\n",
    "* More on [model_evaluation](https://scikit-learn.org/stable/modules/model_evaluation.html)\n",
    "\n",
    "Explain what's the meaning of reg.score return value in this notebook. \n",
    "\n",
    "**A11**\n",
    "Write your answer replacing this line"
   ]
  },
  {
   "cell_type": "code",
   "execution_count": null,
   "metadata": {
    "id": "G7TCgkBJ2e1q"
   },
   "outputs": [],
   "source": [
    "# A custom function to calculate r2 score\n",
    "# Details on the custom scorers: https://scikit-learn.org/stable/modules/model_evaluation.html\n",
    "\n",
    "def r2score_(ytrue, ypred):\n",
    "  rss = ((ytrue - ypred)**2).sum()\n",
    "  tss = ((ytrue - ytrue.mean()) ** 2).sum()\n",
    "  r2 = 1 - rss/tss\n",
    "  return r2\n",
    "\n",
    "# Now do prediction on xtrain and xtest and check your r2 score by printing rescore values \n",
    "trainpredict = reg.predict(xtrain)\n",
    "testpredict = reg.predict(xtest)\n",
    "\n",
    "print(r2score_(ytrain, trainpredict), r2score_(ytest, testpredict))\n",
    "\n",
    "# You can see that reg.score values and your custom function output are matched"
   ]
  },
  {
   "cell_type": "markdown",
   "metadata": {},
   "source": [
    "One way of achieving linear regression is by minimizing the error between actual y and predicted y. The method is known as least square method.  We will make our custom least square optimize to calculate model parameters that minimizes output error.   "
   ]
  },
  {
   "cell_type": "markdown",
   "metadata": {},
   "source": [
    "**Q12** Write a function which takes weights(or params), x and y and do following\n",
    "* 1. calculate dot product between x and params , which is ypredicted\n",
    "* 2. calculate difference between actual y and ypredicted\n",
    "* 3. return the difference\n",
    "\n",
    "**A12** complete the code below"
   ]
  },
  {
   "cell_type": "code",
   "execution_count": null,
   "metadata": {
    "id": "Bo-EEIVy5o3B"
   },
   "outputs": [],
   "source": [
    "import scipy.optimize as optimization\n",
    "from sklearn.metrics import r2_score\n",
    "\n",
    "def constraint(params, x, y):\n",
    "  ypred = x@params\n",
    "  return y-ypred\n",
    "\n",
    "# Our initial params is a vector of size equal to dimension of x, or you can say number of columns of x\n",
    "# You can create zeros vector using np.zeros(size)\n",
    "\n",
    "# complete code\n",
    "params = np.zeros(???)\n",
    "\n",
    "\n",
    "# Now study the documentation and complete following code\n",
    "params, _ = optimization.leastsq(???, ????, ????)\n",
    "\n",
    "# Now we have parameter or weight we can now create our model\n",
    "model = lambda x:np.dot(x,params)\n",
    "\n",
    "# Now predict ytrain using model and see first 5 predicted and actual values\n",
    "ypred_train = model(????)\n",
    "# see first 5 predicted values\n",
    "print(????)\n",
    "# see first 5 actual values\n",
    "print(????)\n",
    "\n",
    "# Now predict ytest using model and see first 5 predicted and actual values\n",
    "ypred_test = model(????)\n",
    "print(????)\n",
    "print(????)\n",
    "\n",
    "# Now use custom made r2score calculator to calculate r2 score on both train and test set\n",
    "print(r2score_(ytest, ypred_test), r2score_(ytrain, ypred_train))\n",
    "\n",
    "# Now use sklearn build-in r2score calculator to calculate r2 score on both train and test set\n",
    "print(??), print(??)"
   ]
  }
 ],
 "metadata": {
  "colab": {
   "collapsed_sections": [],
   "name": "Copy of CS4347-Assignment2-NETID.ipynb",
   "provenance": [
    {
     "file_id": "1vsORsvIGVbJ2cNHR1lIPDIuGobP25ZPq",
     "timestamp": 1629391503766
    },
    {
     "file_id": "1vuQua73YBPg3xOVKXACAGdS_8R1OlQdX",
     "timestamp": 1611597429764
    },
    {
     "file_id": "1Jr8VoifAgTlPqVE_AiCDeWbiHGEyvkxq",
     "timestamp": 1580784119108
    }
   ]
  },
  "kernelspec": {
   "display_name": "Python 3.8.8 ('base')",
   "language": "python",
   "name": "python3"
  },
  "language_info": {
   "codemirror_mode": {
    "name": "ipython",
    "version": 3
   },
   "file_extension": ".py",
   "mimetype": "text/x-python",
   "name": "python",
   "nbconvert_exporter": "python",
   "pygments_lexer": "ipython3",
   "version": "3.8.8"
  },
  "vscode": {
   "interpreter": {
    "hash": "6e3520c759e5572dcce85a4d2a3287416a08b75cbd9d64f3e9845a08c03ad027"
   }
  }
 },
 "nbformat": 4,
 "nbformat_minor": 2
}
