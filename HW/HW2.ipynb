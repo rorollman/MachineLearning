{
 "cells": [
  {
   "cell_type": "markdown",
   "metadata": {},
   "source": [
    "# HW 2\n",
    "\n",
    "Please start working on this assignment as soon as possible. If you are a beginner in Python this might take a long time. The **objective** of this assignment is to help you familiarize w python packages related to machine learning, namely scikit-learn package.  \n",
    "\n",
    "**DO NOT ERASE MARKDOWN CELLS AND INSTRUCTIONS IN YOUR HW submission**\n",
    "\n",
    "## Instructions\n",
    "\n",
    "This assignment covers several aspects of KNN Classifier and performence evaluation we have covered in [introML](https://git.txstate.edu/ML/2022Fall/tree/main/practice/introML) module. eep the following in mind:\n",
    "* Structure your [notebook](https://git.txstate.edu/ML/2022Spring/blob/master/tutorials/notebook-checklist.md) cells as sugested\n",
    "* **Q** - QUESTION posted in a markdown cell\n",
    "   * it explains the task in details\n",
    "   * it is marked with **Q1**, ... **Q10** ...  \n",
    "* **A** - Marks the location where you need to enter your answer below\n",
    "   * it can be ```python code``` (more often) or markdown cell (less often)\n",
    "   * it is marked with **A1**, ... **A10** ... and you enter your answers **below**\n",
    "   * make sure the cell is running and produces no errors \n",
    "* Before you submit the HW: \n",
    "  * Make sure your notebook can always be rerun from top to bottom.\n",
    "\n",
    "* Follow instructions given in canvas for homework submission.\n",
    "\n",
    "\n",
    "## Tutorials\n",
    "\n",
    "* [KNN with sklearn](https://scikit-learn.org/stable/modules/generated/sklearn.neighbors.KNeighborsClassifier.html)\n",
    "* [Confusion Matrix](https://scikit-learn.org/stable/modules/generated/sklearn.metrics.confusion_matrix.html)\n",
    "* [Plot Confursion Matrix with Sklearn](https://scikit-learn.org/stable/auto_examples/model_selection/plot_confusion_matrix.html)"
   ]
  },
  {
   "cell_type": "markdown",
   "metadata": {
    "id": "NsUM8-i_KhK1"
   },
   "source": [
    "# 1. CLASSIFICATION USING KNN ALGORITHM"
   ]
  },
  {
   "cell_type": "markdown",
   "metadata": {},
   "source": [
    "**Data** Get the exploratory data and the folowwing files:      \n",
    "```http://archive.ics.uci.edu/ml/machine-learning-databases/statlog/heart/``` [Download](http://archive.ics.uci.edu/ml/machine-learning-databases/statlog/heart/)\n",
    "* Link contains the original data and the metadata both\n",
    "* copy them in your HW folder\n",
    "\n",
    "* If you are using command line: \n",
    "```>> wget http://archive.ics.uci.edu/ml/machine-learning-databases/statlog/heart/heart.dat```\n",
    "  * If wget is not working \n",
    "    * dowload it from [link](https://eternallybored.org/misc/wget/) \n",
    "    * follow [steps](https://stackoverflow.com/questions/29113456/wget-not-recognized-as-internal-or-external-command)"
   ]
  },
  {
   "cell_type": "markdown",
   "metadata": {
    "id": "xY7fW28aAzU4"
   },
   "source": [
    "**Q1**\n",
    "use pandas to read heart.dat\n",
    "* NOTE : use separator as space while reading this data\n",
    "* Use column names from metadata in given order\n",
    "* NOTE : YOU WON'T SEE 'PRESENCE' in metadata (in attribute information)\n",
    "\n",
    "\n",
    "**A1**\n",
    "Replace the ? mark with your answer"
   ]
  },
  {
   "cell_type": "code",
   "execution_count": null,
   "metadata": {},
   "outputs": [],
   "source": [
    "import pandas as pd\n",
    "\n",
    "columns = ?\n",
    "\n",
    "df = ?"
   ]
  },
  {
   "cell_type": "markdown",
   "metadata": {
    "id": "0thW_JqRA6JR"
   },
   "source": [
    "**Q2**\n",
    "1. Have a look at head and tail of your data\n",
    "* N.B: You can use .tail and .head methods\n",
    "* N.B: Print both of them, if you just run ```without printing``` only output from last command will be printed\n",
    "2. Let us view the size of dataset as well\n",
    "* print data shape\n",
    "3. Now let us see if there is some missing value\n",
    "4. If there is any na values drop it\n",
    "\n",
    "**N.B** You can add more cells as per your need.\n",
    "\n",
    "**A2** Replace ??? with code in the code cell below"
   ]
  },
  {
   "cell_type": "code",
   "execution_count": null,
   "metadata": {
    "id": "C0GgzAf6LjwO"
   },
   "outputs": [],
   "source": [
    "# Code goes below\n",
    "df.??\n",
    "\n",
    "df.??\n",
    "\n",
    "df.??\n",
    "\n",
    "df.??\n",
    "\n",
    "df.??"
   ]
  },
  {
   "cell_type": "markdown",
   "metadata": {},
   "source": [
    "**Q3** Now we will look deeper into the dataset\n",
    "* Use pairplot from sns to plot this data frame\n",
    "* See the statistics of the data by describing dataframe\n",
    "\n",
    "**A3** Replace ??? with code in the code cell below"
   ]
  },
  {
   "cell_type": "code",
   "execution_count": null,
   "metadata": {
    "id": "W7944z05OGd7"
   },
   "outputs": [],
   "source": [
    "import seaborn as sns\n",
    "\n",
    "sns.set(style=?, color_codes=?)\n",
    "g = sns.?\n",
    "\n",
    "import matplotlib.pyplot as plt\n",
    "plt.?\n",
    "\n",
    "#describe dataframe\n",
    "df.?"
   ]
  },
  {
   "cell_type": "markdown",
   "metadata": {},
   "source": [
    "**Q4** \n",
    "\n",
    "1. From the above pairplot what kind of relationship we can derive between age and heartrate?\n",
    "\n",
    "**A4** Write your answer here......"
   ]
  },
  {
   "cell_type": "markdown",
   "metadata": {},
   "source": [
    "**Q5** If you go through metadata (heart.doc) (Attribute Information:) you will see that all data in our dataframe are not of same types.\n",
    "* So we should deal them accordingly.  \n",
    "* We don't have to do anything to 'real' data. However we have to deal with ordered data and nominal data  \n",
    "* We only need to convert all nominal and ordered data to dummy variables "
   ]
  },
  {
   "cell_type": "markdown",
   "metadata": {
    "id": "S7NQUZbdBWg1"
   },
   "source": [
    "**A5** Replace ??? with code in the code cell below\n"
   ]
  },
  {
   "cell_type": "code",
   "execution_count": null,
   "metadata": {
    "id": "H_FgipRYV1l7"
   },
   "outputs": [],
   "source": [
    "dummy_list = \n",
    "df = pd.get_dummies(??, columns=??, prefix= ??, prefix_sep='-')\n",
    "df.head()"
   ]
  },
  {
   "cell_type": "markdown",
   "metadata": {},
   "source": [
    "## KNN Model from sklearn"
   ]
  },
  {
   "cell_type": "markdown",
   "metadata": {},
   "source": [
    "**Q6** Get training data from the dataframe\n",
    "1. Assign values of ```presence``` column to y, note you have to use .values method\n",
    "2. Drop 'presence' column from data frame,\n",
    "3. Assign df values to x\n",
    "\n",
    "Split dataset into train and test data use train_test_split\n",
    "1. Use stratify = y and test_size = 0.25 and random_state = 123\n",
    "2. Create a KNN model using sklearn library, ```Initialize n_neighbors = 4```, ```(See the documenttaion for details)```\n",
    "3. Fit the model with the train data \n",
    "\n",
    "**A6** Replace ??? with code in the code cell below"
   ]
  },
  {
   "cell_type": "code",
   "execution_count": null,
   "metadata": {
    "id": "2QutY2XJWps5"
   },
   "outputs": [],
   "source": [
    "import numpy as np\n",
    "from sklearn.model_selection import train_test_split\n",
    "from sklearn.neighbors import KNeighborsClassifier\n",
    "# Assign values of ```presence``` column to y, note you have to use .values method\n",
    "y = ??\n",
    "# Drop 'presence' column from data frame,\n",
    "df.??\n",
    "# Assign df values to x\n",
    "x = ??\n",
    "# View shape of x and y\n",
    "x.shape, y.shape\n",
    "\n",
    "# Use stratify = y and test_size = 0.25 and random_state = 123\n",
    "\n",
    "xtrain, xtest, ytrain, ytest = ?\n",
    "\n",
    "# Create a KNN model using sklearn library, k=4 \n",
    "knn = ??\n",
    "\n",
    "# Fit the model with the train data\n",
    "knn.fit(?, ?)"
   ]
  },
  {
   "cell_type": "markdown",
   "metadata": {},
   "source": [
    "**Q7** \n",
    "_Analysis_\n",
    "* Predict xtest and view first 20 predicitons\n",
    "* Compare prediction with real ytest 20 predictions\n",
    "* Print the score with test data\n",
    "\n",
    "\n",
    "_Normalization_\n",
    "Data normalization put all data predicates (columns) in the same range of values. To achieve equal distribution of values per dimension, we normalize values in each columns based on the mean and the stadard deviation of the values in that column (predicate). \n",
    "* First, find fmean and st.dev. of a column\n",
    "* normalize each element in the colum as ```elem = (elem - mean) / standard_deviation```\n",
    "\n",
    "**A7** Replace ??? with code in the code cell below"
   ]
  },
  {
   "cell_type": "code",
   "execution_count": null,
   "metadata": {
    "id": "GnWx52bqbOgz"
   },
   "outputs": [],
   "source": [
    "#  Predict xtest and view first 20 predicitons\n",
    "print(knn.predict(?)[?:?])\n",
    "\n",
    "# Compare prediction with real ytest 20 predictions\n",
    "print(?[?:?])\n",
    "\n",
    "# Print the score with test data\n",
    "print(knn.score(?, ?))\n",
    "\n",
    "#rescale only real value columns\n",
    "realcols = ??\n",
    "\n",
    "# For each column normalize ```df[col] as (x - mean) / standard_deviation```\n",
    "for col in ??:\n",
    "  mean = df[col].?\n",
    "  std = ??\n",
    "  df[col] = ??"
   ]
  },
  {
   "cell_type": "markdown",
   "metadata": {},
   "source": [
    "**Q8** Write the code to train new model using KNN classifier, k=4 (same as above)\n",
    "\n",
    "**A8** Replace ??? with code in the code cell below"
   ]
  },
  {
   "cell_type": "code",
   "execution_count": null,
   "metadata": {
    "id": "vOy_yVkEbkxA"
   },
   "outputs": [],
   "source": [
    "# update x\n",
    "x = ?\n",
    "\n",
    "# Train test Split\n",
    "xtrain, xtest, ytrain, ytest = ??\n",
    "\n",
    "# Model Initialization\n",
    "knn = ??\n",
    "\n",
    "# Model fitting with training data\n",
    "knn.fit(?, ?)\n",
    "\n",
    "# Now print score on test data\n",
    "knn.score(?, ?)"
   ]
  },
  {
   "cell_type": "markdown",
   "metadata": {
    "id": "njM47RL7C3A7"
   },
   "source": [
    "**Q9** Lets analyze the difference between two modeling strategies (data normalization)  Compare score with and without data normalization process and explain\n",
    "\n",
    "**A9**  \n",
    "Write your answer replacing this line"
   ]
  },
  {
   "cell_type": "markdown",
   "metadata": {},
   "source": [
    "**Q10** Now we will write a function that will initialize, fit and return score on test data for given values of k and Plot result  \n",
    "\n",
    "1. Use values from 1 to 20(inclusive) and get score and plot as a line graph\n",
    "* Hint : For advance method you can use map (recall functional programming from last exercise) or you can use simple loops\n",
    "\n",
    "2. Finally you can print the best value of k by getting the index   \n",
    "* N.B: Note index starts with 0 but values of k starts with 1 so actual value of k will be 1 more  \n",
    "* You can use ```np.argmax()``` function  \n",
    "\n",
    "3. Now define your best model as bestknn and print score\n",
    "\n",
    "**A10** Write the code below (replace??)"
   ]
  },
  {
   "cell_type": "code",
   "execution_count": null,
   "metadata": {
    "id": "_CnOiJJrjUDi"
   },
   "outputs": [],
   "source": [
    "import matplotlib.pyplot as plt\n",
    "from sklearn.metrics import confusion_matrix\n",
    "\n",
    "def returnScore(k, xtrain, xtest, ytrain, ytest):\n",
    "  knn = KNeighborsClassifier(n_neighbors=k)\n",
    "  knn.fit(??, ??)\n",
    "  return knn.score(??, ??)\n",
    "\n",
    "\n",
    "result = [*map(lambda i:returnScore(i,??, ??, ??, ??), range(?,?))]\n",
    "print(result)\n",
    "plt.plot(result)\n",
    "\n",
    "\n",
    "print('BESt VALUE OF K',np.argmax(result) + 1 )\n",
    "\n",
    "\n",
    "bestknn = KNeighborsClassifier(n_neighbors=?)\n",
    "\n",
    "bestknn.fit(??)\n",
    "bestknn.score(??)\n",
    "\n",
    "\n",
    "ypred = bestknn.?\n",
    "matrix = confusion_matrix(?)\n",
    "print(matrix)"
   ]
  },
  {
   "cell_type": "markdown",
   "metadata": {},
   "source": [
    "**Q11** Now plot confusion matrix using [ConfusionMatrixDisplay](https://scikit-learn.org/stable/modules/generated/sklearn.metrics.ConfusionMatrixDisplay.html), for xtest data. Use the Best KNN model from the above question as the estimator. See [Visualization with Display Objects](https://scikit-learn.org/stable/auto_examples/miscellaneous/plot_display_object_visualization.html) example. \n",
    "\n",
    "**A11** Replace ??? with code in the code cell below"
   ]
  },
  {
   "cell_type": "code",
   "execution_count": null,
   "metadata": {
    "id": "bdpdYg9qreTr"
   },
   "outputs": [],
   "source": [
    "from sklearn.metrics import ConfusionMatrixDisplay\n",
    "import matplotlib.pyplot as plt\n",
    "\n",
    "cm = ConfusionMatrixDisplay.?\n",
    "\n",
    "plt.title(\"Best KNN Model - Confusion Matrix\")\n",
    "plt.xticks(range(2), [\"Class 1\",\"Class 2\"], fontsize=16)\n",
    "plt.yticks(range(2), [\"Class 1\",\"Class 2\"], fontsize=16)\n",
    "plt.show()"
   ]
  },
  {
   "cell_type": "markdown",
   "metadata": {},
   "source": [
    "**Q12:** \n",
    "1. Calculate the test MSE \n",
    "2. Get the score from the model using test data\n",
    "3. Plot Precision-Recall Curve from the true & predicted test data\n",
    "\n",
    "**A12** Replace ??? with code in the code cell below"
   ]
  },
  {
   "cell_type": "code",
   "execution_count": null,
   "metadata": {},
   "outputs": [],
   "source": [
    "from sklearn.metrics import mean_squared_error\n",
    "from sklearn.metrics import PrecisionRecallDisplay\n",
    "import matplotlib.pyplot as plt\n",
    "\n",
    "mse = mean_squared_error(?)          # Calculate the test MSE\n",
    "print(\"Test mean squared error (MSE): {:.2f}\".format(mse))\n",
    "\n",
    "print(bestknn.score(?))\n",
    "\n",
    "\n",
    "PrecisionRecallDisplay.from_estimator(?)\n",
    "plt.show()"
   ]
  },
  {
   "cell_type": "markdown",
   "metadata": {},
   "source": [
    "## Further reading\n",
    "\n",
    "* [KNN model creation](https://towardsdatascience.com/building-a-k-nearest-neighbors-k-nn-model-with-scikit-learn-51209555453a)\n",
    "* [Example of KNN](https://github.com/a-martyn/ISL-python/blob/master/Notebooks/ch4_classification_applied.ipynb)"
   ]
  }
 ],
 "metadata": {
  "colab": {
   "collapsed_sections": [],
   "name": "Copy of CS4347-Assignment2-NETID.ipynb",
   "provenance": [
    {
     "file_id": "1vsORsvIGVbJ2cNHR1lIPDIuGobP25ZPq",
     "timestamp": 1629391503766
    },
    {
     "file_id": "1vuQua73YBPg3xOVKXACAGdS_8R1OlQdX",
     "timestamp": 1611597429764
    },
    {
     "file_id": "1Jr8VoifAgTlPqVE_AiCDeWbiHGEyvkxq",
     "timestamp": 1580784119108
    }
   ]
  },
  "kernelspec": {
   "display_name": "Python 3 (ipykernel)",
   "language": "python",
   "name": "python3"
  },
  "language_info": {
   "codemirror_mode": {
    "name": "ipython",
    "version": 3
   },
   "file_extension": ".py",
   "mimetype": "text/x-python",
   "name": "python",
   "nbconvert_exporter": "python",
   "pygments_lexer": "ipython3",
   "version": "3.9.13"
  },
  "vscode": {
   "interpreter": {
    "hash": "6e3520c759e5572dcce85a4d2a3287416a08b75cbd9d64f3e9845a08c03ad027"
   }
  }
 },
 "nbformat": 4,
 "nbformat_minor": 2
}
